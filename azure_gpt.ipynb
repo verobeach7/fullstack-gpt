{
 "cells": [
  {
   "cell_type": "code",
   "execution_count": 1,
   "metadata": {},
   "outputs": [
    {
     "data": {
      "text/plain": [
       "AIMessage(content='나는 마이크로소프트를 사랑해!')"
      ]
     },
     "execution_count": 1,
     "metadata": {},
     "output_type": "execute_result"
    }
   ],
   "source": [
    "from langchain.chat_models import AzureChatOpenAI\n",
    "from langchain.prompts import ChatPromptTemplate\n",
    "import os\n",
    "\n",
    "chat = AzureChatOpenAI(\n",
    "    # 사용하기 원하는 모델을 Azure에서 먼저 Model Deployment를 해야 함\n",
    "    # azure_deployment=\"gpt-4o-mini\",\n",
    "    # api_version=\"2023-12-01-preview\",\n",
    "    azure_deployment=\"gpt-4o-mini\",\n",
    "    api_version=\"2024-08-01-preview\",\n",
    ")\n",
    "\n",
    "prompt = ChatPromptTemplate.from_messages(\n",
    "    [\n",
    "        (\n",
    "            \"user\",\n",
    "            \"Translate this sentence from {lang_a} to {lang_b}: {sentence}\",\n",
    "        ),\n",
    "    ]\n",
    ")\n",
    "\n",
    "chain = prompt | chat\n",
    "\n",
    "chain.invoke(\n",
    "    {\n",
    "        \"lang_a\": \"English\",\n",
    "        \"lang_b\": \"Korean\",\n",
    "        \"sentence\": \"I love microsoft!\",\n",
    "    }\n",
    ")"
   ]
  }
 ],
 "metadata": {
  "kernelspec": {
   "display_name": "env",
   "language": "python",
   "name": "python3"
  },
  "language_info": {
   "codemirror_mode": {
    "name": "ipython",
    "version": 3
   },
   "file_extension": ".py",
   "mimetype": "text/x-python",
   "name": "python",
   "nbconvert_exporter": "python",
   "pygments_lexer": "ipython3",
   "version": "3.11.7"
  }
 },
 "nbformat": 4,
 "nbformat_minor": 2
}
