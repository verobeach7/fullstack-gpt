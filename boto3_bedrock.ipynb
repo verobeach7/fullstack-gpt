{
 "cells": [
  {
   "cell_type": "code",
   "execution_count": 9,
   "metadata": {},
   "outputs": [],
   "source": [
    "import os\n",
    "import boto3\n",
    "from dotenv import load_dotenv\n",
    "\n",
    "# .env 파일 로드\n",
    "load_dotenv()\n",
    "\n",
    "# AWS에 로그인\n",
    "# 아래 설정을 통해 AWS Console에 연결한 것과 같아짐\n",
    "session = boto3.Session(\n",
    "    aws_access_key_id=os.getenv(\"AWS_ACCESS_KEY\"),\n",
    "    aws_secret_access_key=os.getenv(\"AWS_SECRET_KEY\"),\n",
    ")\n",
    "\n",
    "# bedrock-runtime과 us-east-1을 이용하기를 희망\n",
    "client = session.client(\"bedrock-runtime\", \"us-east-1\")"
   ]
  },
  {
   "cell_type": "code",
   "execution_count": null,
   "metadata": {},
   "outputs": [
    {
     "data": {
      "text/plain": [
       "AIMessage(content=' Here is the translation:\\n\\n나는 너를 사랑해')"
      ]
     },
     "execution_count": 12,
     "metadata": {},
     "output_type": "execute_result"
    }
   ],
   "source": [
    "# Chat Model을 이용하고 싶을 때\n",
    "from langchain.chat_models import BedrockChat\n",
    "from langchain.prompts import ChatPromptTemplate\n",
    "\n",
    "# Bedrock을 이용하고 싶을 때\n",
    "from langchain.llms import Bedrock\n",
    "\n",
    "chat = BedrockChat(\n",
    "    client=client,\n",
    "    # AWS Bedrock 대시보드에서 찾을 수 있음\n",
    "    model_id=\"anthropic.claude-v2\",\n",
    "    # Claude 3.5 Haiku는 on-demand 호출 불가\n",
    "    # AWS 콘솔에서 Inference Profile 생성 → ID 복사\n",
    "    # invoke_model_with_response_stream() 호출 시 inferenceProfile 추가\n",
    "    # model_id=\"anthropic.claude-3-5-haiku-20241022-v1:0\",\n",
    "    model_kwargs={\n",
    "        \"temperature\": 0.1,\n",
    "    },\n",
    ")\n",
    "\n",
    "# Claude는 프롬프트에 대한 고유의 방식을 가지고 있기 때문에 매뉴얼을 반드시 확인해야 함\n",
    "prompt = ChatPromptTemplate.from_messages(\n",
    "    [\n",
    "        (\n",
    "            \"user\",\n",
    "            \"Translate this sentence from {lang_a} to {lang_b}. {sentence}\",\n",
    "        )\n",
    "    ]\n",
    ")\n",
    "\n",
    "chain = prompt | chat\n",
    "\n",
    "chain.invoke(\n",
    "    {\n",
    "        \"lang_a\": \"English\",\n",
    "        \"lang_b\": \"Korean\",\n",
    "        \"sentence\": \"I love you\",\n",
    "    }\n",
    ")"
   ]
  }
 ],
 "metadata": {
  "kernelspec": {
   "display_name": "env",
   "language": "python",
   "name": "python3"
  },
  "language_info": {
   "codemirror_mode": {
    "name": "ipython",
    "version": 3
   },
   "file_extension": ".py",
   "mimetype": "text/x-python",
   "name": "python",
   "nbconvert_exporter": "python",
   "pygments_lexer": "ipython3",
   "version": "3.11.7"
  }
 },
 "nbformat": 4,
 "nbformat_minor": 2
}
