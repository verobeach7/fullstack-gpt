{
 "cells": [
  {
   "cell_type": "code",
   "execution_count": 32,
   "metadata": {},
   "outputs": [],
   "source": [
    "from langchain.utilities.duckduckgo_search import DuckDuckGoSearchAPIWrapper\n",
    "import yfinance\n",
    "\n",
    "# json.dumps() 사용하기 위해 필요\n",
    "import json\n",
    "\n",
    "\n",
    "# Tool Implement\n",
    "def get_ticker(inputs):  # Parameters object를 받음\n",
    "    ddg = DuckDuckGoSearchAPIWrapper(backend=\"api\")\n",
    "    company_name = inputs[\"company_name\"]\n",
    "    return ddg.run(f\"Ticker symbol of {company_name}\")\n",
    "\n",
    "\n",
    "# 손익계산서\n",
    "def get_income_statement(inputs):\n",
    "    ticker = inputs[\"ticker\"]\n",
    "    stock = yfinance.Ticker(ticker)\n",
    "\n",
    "    # LLM은 String을 읽기 때문에 String 형태로 변환해야함\n",
    "    # stock은 데이터프레임(스프레드시트) 형태로 들어옴\n",
    "    # .to_json(): 데이터프레임 형태를 json 형태로 변환\n",
    "    # json.dumps(): json 형태를 다시 문자열로 변환\n",
    "    return json.dumps(stock.income_stmt.to_json())  # stmt: statement\n",
    "\n",
    "\n",
    "# 대차대조표\n",
    "def get_balance_sheet(inputs):\n",
    "    ticker = inputs[\"ticker\"]\n",
    "    stock = yfinance.Ticker(ticker)\n",
    "    return json.dumps(stock.balance_sheet.to_json())\n",
    "\n",
    "\n",
    "# 100일 동안의 주식 퍼포먼스\n",
    "def get_daily_stock_performance(inputs):\n",
    "    ticker = inputs[\"ticker\"]\n",
    "    stock = yfinance.Ticker(ticker)\n",
    "    # history에 들어가보면 바꿀 수 있는 parameter를 확인할 수 있음\n",
    "    return json.dumps(stock.history(period=\"3mo\").to_json())\n",
    "\n",
    "\n",
    "functions_map = {\n",
    "    \"get_ticker\": get_ticker,\n",
    "    \"get_income_statement\": get_income_statement,\n",
    "    \"get_balance_sheet\": get_balance_sheet,\n",
    "    \"get_daily_stock_performance\": get_daily_stock_performance,\n",
    "}\n",
    "\n",
    "# Tools에 넘겨줄 Description\n",
    "functions = [\n",
    "    {\n",
    "        \"type\": \"function\",\n",
    "        \"function\": {\n",
    "            \"name\": \"get_ticker\",\n",
    "            \"description\": \"Given the name of a company returns its ticker symbol\",\n",
    "            \"parameters\": {\n",
    "                \"type\": \"object\",\n",
    "                \"properties\": {\n",
    "                    \"company_name\": {\n",
    "                        \"type\": \"string\",\n",
    "                        \"description\": \"The name of the company\",\n",
    "                    }\n",
    "                },\n",
    "                \"required\": [\"company_name\"],\n",
    "            },\n",
    "        },\n",
    "    },\n",
    "    {\n",
    "        \"type\": \"function\",\n",
    "        \"function\": {\n",
    "            \"name\": \"get_income_statement\",\n",
    "            \"description\": \"Given a ticker symbol (i.e AAPL) returns the company's income statement.\",\n",
    "            \"parameters\": {\n",
    "                \"type\": \"object\",\n",
    "                \"properties\": {\n",
    "                    \"ticker\": {\n",
    "                        \"type\": \"string\",\n",
    "                        \"description\": \"Ticker symbol of the company\",\n",
    "                    },\n",
    "                },\n",
    "                \"required\": [\"ticker\"],\n",
    "            },\n",
    "        },\n",
    "    },\n",
    "    {\n",
    "        \"type\": \"function\",\n",
    "        \"function\": {\n",
    "            \"name\": \"get_balance_sheet\",\n",
    "            \"description\": \"Given a ticker symbol (i.e AAPL) returns the company's balance sheet.\",\n",
    "            \"parameters\": {\n",
    "                \"type\": \"object\",\n",
    "                \"properties\": {\n",
    "                    \"ticker\": {\n",
    "                        \"type\": \"string\",\n",
    "                        \"description\": \"Ticker symbol of the company\",\n",
    "                    },\n",
    "                },\n",
    "                \"required\": [\"ticker\"],\n",
    "            },\n",
    "        },\n",
    "    },\n",
    "    {\n",
    "        \"type\": \"function\",\n",
    "        \"function\": {\n",
    "            \"name\": \"get_daily_stock_performance\",\n",
    "            \"description\": \"Given a ticker symbol (i.e AAPL) returns the performance of the stock for the last 100 days.\",\n",
    "            \"parameters\": {\n",
    "                \"type\": \"object\",\n",
    "                \"properties\": {\n",
    "                    \"ticker\": {\n",
    "                        \"type\": \"string\",\n",
    "                        \"description\": \"Ticker symbol of the company\",\n",
    "                    },\n",
    "                },\n",
    "                \"required\": [\"ticker\"],\n",
    "            },\n",
    "        },\n",
    "    },\n",
    "]"
   ]
  },
  {
   "cell_type": "code",
   "execution_count": 9,
   "metadata": {},
   "outputs": [],
   "source": [
    "from openai import OpenAI\n",
    "\n",
    "client = OpenAI()\n",
    "\n",
    "# # OpenAI에 assistant를 생성함\n",
    "# assistant = client.beta.assistants.create(\n",
    "#     name=\"Investor Assistant\",\n",
    "#     instructions=\"You help users do research on publicly traded companies and you help users decide if they should buy the stock or not.\",\n",
    "#     model=\"gpt-4o-mini\",\n",
    "#     # tools가 어떻게 작동될 지에 대한 description을 List형태로 넘겨줘야 함\n",
    "#     tools=functions,\n",
    "# )\n",
    "\n",
    "# print(assistant)\n",
    "# # assistant.id를 확인할 수 있는데 이것은 앞으로도 계속 사용됨\n",
    "# # assistant를 생성한 후에 OpenAI의 Playground를 이용해 assistant를 테스트해 볼 수 있음\n",
    "\n",
    "assistant_id = \"asst_sgTX3TAy06FPU13MqF1zOeqw\""
   ]
  },
  {
   "cell_type": "code",
   "execution_count": 10,
   "metadata": {},
   "outputs": [
    {
     "data": {
      "text/plain": [
       "Thread(id='thread_7JKdEGF3LKWFHWZUNQGl8t9U', created_at=1737789588, metadata={}, object='thread', tool_resources=ToolResources(code_interpreter=None, file_search=None))"
      ]
     },
     "execution_count": 10,
     "metadata": {},
     "output_type": "execute_result"
    }
   ],
   "source": [
    "# thread 생성\n",
    "thread = client.beta.threads.create(\n",
    "    messages=[\n",
    "        {\n",
    "            \"role\": \"user\",\n",
    "            \"content\": \"I want to know if the Salesforce stock is a good buy\",\n",
    "        }\n",
    "    ]\n",
    ")\n",
    "thread\n",
    "# Assistant의 thread에 가보면 생성된 것을 확인할 수 있음"
   ]
  },
  {
   "cell_type": "code",
   "execution_count": 11,
   "metadata": {},
   "outputs": [],
   "source": [
    "thread_id = \"thread_7JKdEGF3LKWFHWZUNQGl8t9U\""
   ]
  },
  {
   "cell_type": "code",
   "execution_count": 27,
   "metadata": {},
   "outputs": [
    {
     "data": {
      "text/plain": [
       "Run(id='run_CrhP5r9aKY8X6kHQK7gjfX1z', assistant_id='asst_sgTX3TAy06FPU13MqF1zOeqw', cancelled_at=None, completed_at=None, created_at=1737792135, expires_at=1737792735, failed_at=None, incomplete_details=None, instructions='You help users do research on publicly traded companies and you help users decide if they should buy the stock or not.', last_error=None, max_completion_tokens=None, max_prompt_tokens=None, metadata={}, model='gpt-4o-mini', object='thread.run', parallel_tool_calls=True, required_action=None, response_format='auto', started_at=None, status='queued', thread_id='thread_7JKdEGF3LKWFHWZUNQGl8t9U', tool_choice='auto', tools=[FunctionTool(function=FunctionDefinition(name='get_ticker', description='Given the name of a company returns its ticker symbol', parameters={'type': 'object', 'properties': {'company_name': {'type': 'string', 'description': 'The name of the company'}}, 'required': ['company_name']}, strict=False), type='function'), FunctionTool(function=FunctionDefinition(name='get_income_statement', description=\"Given a ticker symbol (i.e AAPL) returns the company's income statement.\", parameters={'type': 'object', 'properties': {'ticker': {'type': 'string', 'description': 'Ticker symbol of the company'}}, 'required': ['ticker']}, strict=False), type='function'), FunctionTool(function=FunctionDefinition(name='get_balance_sheet', description=\"Given a ticker symbol (i.e AAPL) returns the company's balance sheet.\", parameters={'type': 'object', 'properties': {'ticker': {'type': 'string', 'description': 'Ticker symbol of the company'}}, 'required': ['ticker']}, strict=False), type='function'), FunctionTool(function=FunctionDefinition(name='get_daily_stock_performance', description='Given a ticker symbol (i.e AAPL) returns the performance of the stock for the last 100 days.', parameters={'type': 'object', 'properties': {'ticker': {'type': 'string', 'description': 'Ticker symbol of the company'}}, 'required': ['ticker']}, strict=False), type='function')], truncation_strategy=TruncationStrategy(type='auto', last_messages=None), usage=None, temperature=1.0, top_p=1.0, tool_resources={})"
      ]
     },
     "execution_count": 27,
     "metadata": {},
     "output_type": "execute_result"
    }
   ],
   "source": [
    "run = client.beta.threads.runs.create(\n",
    "    thread_id=thread.id,\n",
    "    assistant_id=assistant_id,\n",
    ")\n",
    "run"
   ]
  },
  {
   "cell_type": "code",
   "execution_count": 13,
   "metadata": {},
   "outputs": [],
   "source": [
    "run_id = \"run_KLAXYi8g5S1pZXyvEOGqqLSq\""
   ]
  },
  {
   "cell_type": "code",
   "execution_count": 23,
   "metadata": {},
   "outputs": [],
   "source": [
    "# Thread 실행\n",
    "def get_run(run_id, thread_id):\n",
    "    return client.beta.threads.runs.retrieve(\n",
    "        run_id=run_id,\n",
    "        thread_id=thread_id,\n",
    "    )\n",
    "\n",
    "\n",
    "# Thread에 메시지 보내기\n",
    "def send_message(thread_id, content):\n",
    "    return client.beta.threads.messages.create(\n",
    "        thread_id=thread_id,\n",
    "        role=\"user\",\n",
    "        content=content,\n",
    "    )\n",
    "\n",
    "\n",
    "# Thread에 있는 메시지 받기\n",
    "def get_messages(thread_id):\n",
    "    messages = client.beta.threads.messages.list(thread_id=thread_id)\n",
    "    messages = list(messages)\n",
    "    messages.reverse()\n",
    "    for message in messages:\n",
    "        print(f\"{message.role}: {message.content[0].text.value}\")\n",
    "\n",
    "\n",
    "# 어떤 Tool을 사용해야 하는지 받아오고 이를 실행시킴\n",
    "def get_tool_outputs(run_id, thread_id):\n",
    "    run = get_run(run_id, thread.id)\n",
    "    outputs = []\n",
    "    for action in run.required_action.submit_tool_outputs.tool_calls:\n",
    "        action_id = action.id\n",
    "        function = action.function\n",
    "        print(f\"Calling function: {function.name} with arg {function.arguments}\")\n",
    "        outputs.append(\n",
    "            # outputs 리스트에 dictionary로 넣어줌\n",
    "            {\n",
    "                # functions_map을 이용하여 string으로 받아온 것을 바로 함수로 연결시켜줄 수 있음\n",
    "                # json.loads를 이용하여 json 객체로 만들어 줌\n",
    "                # \"get_ticker\"\n",
    "                # -> get_ticker({\"company_name\":\"Salesforce\"})\n",
    "                \"output\": functions_map[function.name](json.loads(function.arguments)),\n",
    "                \"tool_call_id\": action_id,\n",
    "            }\n",
    "        )\n",
    "    return outputs\n",
    "\n",
    "\n",
    "def submit_tool_outputs(run_id, thread_id):\n",
    "    outpus = get_tool_outputs(run_id, thread_id)\n",
    "    return client.beta.threads.runs.submit_tool_outputs(\n",
    "        run_id=run_id,\n",
    "        thread_id=thread_id,\n",
    "        tool_outputs=outpus,\n",
    "    )"
   ]
  },
  {
   "cell_type": "code",
   "execution_count": 41,
   "metadata": {},
   "outputs": [
    {
     "data": {
      "text/plain": [
       "'completed'"
      ]
     },
     "execution_count": 41,
     "metadata": {},
     "output_type": "execute_result"
    }
   ],
   "source": [
    "get_run(run.id, thread.id).status\n",
    "# 'completed': AI가 응답을 완료했음을 나타냄\n",
    "# 'required_action': 추가적인 조치를 하여야 함을 나타냄"
   ]
  },
  {
   "cell_type": "code",
   "execution_count": 42,
   "metadata": {},
   "outputs": [
    {
     "name": "stdout",
     "output_type": "stream",
     "text": [
      "user: I want to know if the Salesforce stock is a good buy\n",
      "user: Please go ahead!\n",
      "assistant: ### Salesforce Overview\n",
      "- **Ticker Symbol:** CRM\n",
      "- **Industry:** Cloud-based software, primarily Customer Relationship Management (CRM)\n",
      "\n",
      "### Financial Performance (Recent Year)\n",
      "1. **Income Statement Highlights (Fiscal Year Ended January 31, 2023)**\n",
      "   - **Total Revenue:** $34.86 billion (up 11.18% from $31.35 billion in 2022)\n",
      "   - **Net Income:** $4.14 billion\n",
      "   - **Earnings Per Share (Diluted):** $4.20\n",
      "   - **Operating Income:** $5.01 billion\n",
      "   - **Total Expenses:** $28.86 billion\n",
      "\n",
      "2. **Recent Quarterly Income Statement (Most Recent Quarter)**\n",
      "   - **Total Revenue:** $8.17 billion\n",
      "   - **Net Income:** $1.09 billion\n",
      "   - **Earnings Per Share (EPS):** $1.15\n",
      "   - **Operating Expenses:** $7.32 billion\n",
      "\n",
      "3. **Balance Sheet Highlights**\n",
      "   - **Total Assets:** $99.82 billion\n",
      "   - **Total Liabilities:** $40.18 billion\n",
      "   - **Stockholders’ Equity:** $59.65 billion\n",
      "   - **Debt:** $12.59 billion\n",
      "\n",
      "### Stock Performance\n",
      "- **Last Closing Price:** $331.25\n",
      "- **Stock Price Range Over the Last Month:**\n",
      "  - **High:** Approximately $368.58\n",
      "  - **Low:** Approximately $317.85\n",
      "- **Stock has shown volatility:** Prices fluctuating between $317 to $368.\n",
      "  \n",
      "### Recent Stock Performance Graph (For a visual understanding of trends)\n",
      "\n",
      "Unfortunately, I cannot display a graph here, but recent trends show significant price movements, and the stock has often rebounded after dips.\n",
      "\n",
      "### Analyst Opinions\n",
      "1. **Growth Potential:** Salesforce has demonstrated consistent revenue growth and has a strong market position in CRM solutions.\n",
      "2. **Investment Risks:** The company faces competition in the cloud industry and operational expenses that may impact profitability.\n",
      "\n",
      "### Conclusion: Should You Buy?\n",
      "Based on the financial data, Salesforce shows strong revenue growth, solid earnings, and a healthy balance sheet. If you are looking for a company with growth potential and are willing to take on some market volatility, then **Salesforce (CRM)** might be a good buy.\n",
      "\n",
      "However, examine your investment goals and risk tolerance before making a decision. It's also prudent to stay updated with the broader market conditions and company-specific news.\n"
     ]
    }
   ],
   "source": [
    "get_messages(thread.id)"
   ]
  },
  {
   "cell_type": "code",
   "execution_count": null,
   "metadata": {},
   "outputs": [],
   "source": [
    "send_message(thread.id, \"Please go ahead!\")"
   ]
  },
  {
   "cell_type": "code",
   "execution_count": null,
   "metadata": {},
   "outputs": [],
   "source": [
    "submit_tool_outputs(run.id, thread.id)"
   ]
  }
 ],
 "metadata": {
  "kernelspec": {
   "display_name": "env",
   "language": "python",
   "name": "python3"
  },
  "language_info": {
   "codemirror_mode": {
    "name": "ipython",
    "version": 3
   },
   "file_extension": ".py",
   "mimetype": "text/x-python",
   "name": "python",
   "nbconvert_exporter": "python",
   "pygments_lexer": "ipython3",
   "version": "3.11.7"
  }
 },
 "nbformat": 4,
 "nbformat_minor": 2
}
