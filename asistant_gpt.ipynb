{
 "cells": [
  {
   "cell_type": "code",
   "execution_count": 32,
   "metadata": {},
   "outputs": [],
   "source": [
    "from langchain.utilities.duckduckgo_search import DuckDuckGoSearchAPIWrapper\n",
    "import yfinance\n",
    "\n",
    "# json.dumps() 사용하기 위해 필요\n",
    "import json\n",
    "\n",
    "\n",
    "# Tool Implement\n",
    "def get_ticker(inputs):  # Parameters object를 받음\n",
    "    ddg = DuckDuckGoSearchAPIWrapper(backend=\"api\")\n",
    "    company_name = inputs[\"company_name\"]\n",
    "    return ddg.run(f\"Ticker symbol of {company_name}\")\n",
    "\n",
    "\n",
    "# 손익계산서\n",
    "def get_income_statement(inputs):\n",
    "    ticker = inputs[\"ticker\"]\n",
    "    stock = yfinance.Ticker(ticker)\n",
    "\n",
    "    # LLM은 String을 읽기 때문에 String 형태로 변환해야함\n",
    "    # stock은 데이터프레임(스프레드시트) 형태로 들어옴\n",
    "    # .to_json(): 데이터프레임 형태를 json 형태로 변환\n",
    "    # json.dumps(): json 형태를 다시 문자열로 변환\n",
    "    return json.dumps(stock.income_stmt.to_json())  # stmt: statement\n",
    "\n",
    "\n",
    "# 대차대조표\n",
    "def get_balance_sheet(inputs):\n",
    "    ticker = inputs[\"ticker\"]\n",
    "    stock = yfinance.Ticker(ticker)\n",
    "    return json.dumps(stock.balance_sheet.to_json())\n",
    "\n",
    "\n",
    "# 100일 동안의 주식 퍼포먼스\n",
    "def get_daily_stock_performance(inputs):\n",
    "    ticker = inputs[\"ticker\"]\n",
    "    stock = yfinance.Ticker(ticker)\n",
    "    # history에 들어가보면 바꿀 수 있는 parameter를 확인할 수 있음\n",
    "    return json.dumps(stock.history(period=\"3mo\").to_json())\n",
    "\n",
    "\n",
    "functions_map = {\n",
    "    \"get_ticker\": get_ticker,\n",
    "    \"get_income_statement\": get_income_statement,\n",
    "    \"get_balance_sheet\": get_balance_sheet,\n",
    "    \"get_daily_stock_performance\": get_daily_stock_performance,\n",
    "}\n",
    "\n",
    "# Tools에 넘겨줄 Description\n",
    "functions = [\n",
    "    {\n",
    "        \"type\": \"function\",\n",
    "        \"function\": {\n",
    "            \"name\": \"get_ticker\",\n",
    "            \"description\": \"Given the name of a company returns its ticker symbol\",\n",
    "            \"parameters\": {\n",
    "                \"type\": \"object\",\n",
    "                \"properties\": {\n",
    "                    \"company_name\": {\n",
    "                        \"type\": \"string\",\n",
    "                        \"description\": \"The name of the company\",\n",
    "                    }\n",
    "                },\n",
    "                \"required\": [\"company_name\"],\n",
    "            },\n",
    "        },\n",
    "    },\n",
    "    {\n",
    "        \"type\": \"function\",\n",
    "        \"function\": {\n",
    "            \"name\": \"get_income_statement\",\n",
    "            \"description\": \"Given a ticker symbol (i.e AAPL) returns the company's income statement.\",\n",
    "            \"parameters\": {\n",
    "                \"type\": \"object\",\n",
    "                \"properties\": {\n",
    "                    \"ticker\": {\n",
    "                        \"type\": \"string\",\n",
    "                        \"description\": \"Ticker symbol of the company\",\n",
    "                    },\n",
    "                },\n",
    "                \"required\": [\"ticker\"],\n",
    "            },\n",
    "        },\n",
    "    },\n",
    "    {\n",
    "        \"type\": \"function\",\n",
    "        \"function\": {\n",
    "            \"name\": \"get_balance_sheet\",\n",
    "            \"description\": \"Given a ticker symbol (i.e AAPL) returns the company's balance sheet.\",\n",
    "            \"parameters\": {\n",
    "                \"type\": \"object\",\n",
    "                \"properties\": {\n",
    "                    \"ticker\": {\n",
    "                        \"type\": \"string\",\n",
    "                        \"description\": \"Ticker symbol of the company\",\n",
    "                    },\n",
    "                },\n",
    "                \"required\": [\"ticker\"],\n",
    "            },\n",
    "        },\n",
    "    },\n",
    "    {\n",
    "        \"type\": \"function\",\n",
    "        \"function\": {\n",
    "            \"name\": \"get_daily_stock_performance\",\n",
    "            \"description\": \"Given a ticker symbol (i.e AAPL) returns the performance of the stock for the last 100 days.\",\n",
    "            \"parameters\": {\n",
    "                \"type\": \"object\",\n",
    "                \"properties\": {\n",
    "                    \"ticker\": {\n",
    "                        \"type\": \"string\",\n",
    "                        \"description\": \"Ticker symbol of the company\",\n",
    "                    },\n",
    "                },\n",
    "                \"required\": [\"ticker\"],\n",
    "            },\n",
    "        },\n",
    "    },\n",
    "]"
   ]
  },
  {
   "cell_type": "code",
   "execution_count": 9,
   "metadata": {},
   "outputs": [],
   "source": [
    "from openai import OpenAI\n",
    "\n",
    "client = OpenAI()\n",
    "\n",
    "# # OpenAI에 assistant를 생성함\n",
    "# assistant = client.beta.assistants.create(\n",
    "#     name=\"Investor Assistant\",\n",
    "#     instructions=\"You help users do research on publicly traded companies and you help users decide if they should buy the stock or not.\",\n",
    "#     model=\"gpt-4o-mini\",\n",
    "#     # tools가 어떻게 작동될 지에 대한 description을 List형태로 넘겨줘야 함\n",
    "#     tools=functions,\n",
    "# )\n",
    "\n",
    "# print(assistant)\n",
    "# # assistant.id를 확인할 수 있는데 이것은 앞으로도 계속 사용됨\n",
    "# # assistant를 생성한 후에 OpenAI의 Playground를 이용해 assistant를 테스트해 볼 수 있음\n",
    "\n",
    "assistant_id = \"asst_sgTX3TAy06FPU13MqF1zOeqw\""
   ]
  },
  {
   "cell_type": "code",
   "execution_count": 43,
   "metadata": {},
   "outputs": [
    {
     "data": {
      "text/plain": [
       "Thread(id='thread_F7Oz93ouBEOnDc74dC94A3yM', created_at=1737793823, metadata={}, object='thread', tool_resources=ToolResources(code_interpreter=None, file_search=None))"
      ]
     },
     "execution_count": 43,
     "metadata": {},
     "output_type": "execute_result"
    }
   ],
   "source": [
    "# thread 생성\n",
    "thread = client.beta.threads.create(\n",
    "    messages=[\n",
    "        {\n",
    "            \"role\": \"user\",\n",
    "            \"content\": \"I want to know if the Cloudflare stock is a good buy\",\n",
    "        }\n",
    "    ]\n",
    ")\n",
    "thread\n",
    "# Assistant의 thread에 가보면 생성된 것을 확인할 수 있음"
   ]
  },
  {
   "cell_type": "code",
   "execution_count": 44,
   "metadata": {},
   "outputs": [
    {
     "data": {
      "text/plain": [
       "Run(id='run_tzkQMC603pjt3AwFloH5eYFu', assistant_id='asst_sgTX3TAy06FPU13MqF1zOeqw', cancelled_at=None, completed_at=None, created_at=1737793842, expires_at=1737794442, failed_at=None, incomplete_details=None, instructions='You help users do research on publicly traded companies and you help users decide if they should buy the stock or not.', last_error=None, max_completion_tokens=None, max_prompt_tokens=None, metadata={}, model='gpt-4o-mini', object='thread.run', parallel_tool_calls=True, required_action=None, response_format='auto', started_at=None, status='queued', thread_id='thread_F7Oz93ouBEOnDc74dC94A3yM', tool_choice='auto', tools=[FunctionTool(function=FunctionDefinition(name='get_ticker', description='Given the name of a company returns its ticker symbol', parameters={'type': 'object', 'properties': {'company_name': {'type': 'string', 'description': 'The name of the company'}}, 'required': ['company_name']}, strict=False), type='function'), FunctionTool(function=FunctionDefinition(name='get_income_statement', description=\"Given a ticker symbol (i.e AAPL) returns the company's income statement.\", parameters={'type': 'object', 'properties': {'ticker': {'type': 'string', 'description': 'Ticker symbol of the company'}}, 'required': ['ticker']}, strict=False), type='function'), FunctionTool(function=FunctionDefinition(name='get_balance_sheet', description=\"Given a ticker symbol (i.e AAPL) returns the company's balance sheet.\", parameters={'type': 'object', 'properties': {'ticker': {'type': 'string', 'description': 'Ticker symbol of the company'}}, 'required': ['ticker']}, strict=False), type='function'), FunctionTool(function=FunctionDefinition(name='get_daily_stock_performance', description='Given a ticker symbol (i.e AAPL) returns the performance of the stock for the last 100 days.', parameters={'type': 'object', 'properties': {'ticker': {'type': 'string', 'description': 'Ticker symbol of the company'}}, 'required': ['ticker']}, strict=False), type='function')], truncation_strategy=TruncationStrategy(type='auto', last_messages=None), usage=None, temperature=1.0, top_p=1.0, tool_resources={})"
      ]
     },
     "execution_count": 44,
     "metadata": {},
     "output_type": "execute_result"
    }
   ],
   "source": [
    "run = client.beta.threads.runs.create(\n",
    "    thread_id=thread.id,\n",
    "    assistant_id=assistant_id,\n",
    ")\n",
    "run"
   ]
  },
  {
   "cell_type": "code",
   "execution_count": 23,
   "metadata": {},
   "outputs": [],
   "source": [
    "# Thread 실행\n",
    "def get_run(run_id, thread_id):\n",
    "    return client.beta.threads.runs.retrieve(\n",
    "        run_id=run_id,\n",
    "        thread_id=thread_id,\n",
    "    )\n",
    "\n",
    "\n",
    "# Thread에 메시지 보내기\n",
    "def send_message(thread_id, content):\n",
    "    return client.beta.threads.messages.create(\n",
    "        thread_id=thread_id,\n",
    "        role=\"user\",\n",
    "        content=content,\n",
    "    )\n",
    "\n",
    "\n",
    "# Thread에 있는 메시지 받기\n",
    "def get_messages(thread_id):\n",
    "    messages = client.beta.threads.messages.list(thread_id=thread_id)\n",
    "    messages = list(messages)\n",
    "    messages.reverse()\n",
    "    for message in messages:\n",
    "        print(f\"{message.role}: {message.content[0].text.value}\")\n",
    "\n",
    "\n",
    "# 어떤 Tool을 사용해야 하는지 받아오고 이를 실행시킴\n",
    "def get_tool_outputs(run_id, thread_id):\n",
    "    run = get_run(run_id, thread_id)\n",
    "    outputs = []\n",
    "    for action in run.required_action.submit_tool_outputs.tool_calls:\n",
    "        action_id = action.id\n",
    "        function = action.function\n",
    "        print(f\"Calling function: {function.name} with arg {function.arguments}\")\n",
    "        outputs.append(\n",
    "            # outputs 리스트에 dictionary로 넣어줌\n",
    "            {\n",
    "                # functions_map을 이용하여 string으로 받아온 것을 바로 함수로 연결시켜줄 수 있음\n",
    "                # json.loads를 이용하여 json 객체로 만들어 줌\n",
    "                # \"get_ticker\"\n",
    "                # -> get_ticker({\"company_name\":\"Salesforce\"})\n",
    "                \"output\": functions_map[function.name](json.loads(function.arguments)),\n",
    "                \"tool_call_id\": action_id,\n",
    "            }\n",
    "        )\n",
    "    return outputs\n",
    "\n",
    "\n",
    "def submit_tool_outputs(run_id, thread_id):\n",
    "    outpus = get_tool_outputs(run_id, thread_id)\n",
    "    return client.beta.threads.runs.submit_tool_outputs(\n",
    "        run_id=run_id,\n",
    "        thread_id=thread_id,\n",
    "        tool_outputs=outpus,\n",
    "    )"
   ]
  },
  {
   "cell_type": "code",
   "execution_count": 57,
   "metadata": {},
   "outputs": [
    {
     "data": {
      "text/plain": [
       "'completed'"
      ]
     },
     "execution_count": 57,
     "metadata": {},
     "output_type": "execute_result"
    }
   ],
   "source": [
    "get_run(run.id, thread.id).status\n",
    "# 'completed': AI가 응답을 완료했음을 나타냄\n",
    "# 'required_action': 추가적인 조치를 하여야 함을 나타냄"
   ]
  },
  {
   "cell_type": "code",
   "execution_count": 58,
   "metadata": {},
   "outputs": [
    {
     "name": "stdout",
     "output_type": "stream",
     "text": [
      "user: I want to know if the Cloudflare stock is a good buy\n",
      "assistant: To determine whether Cloudflare (Ticker: NET) is a good buy, let's analyze key financial information and recent stock performance.\n",
      "\n",
      "### 1. Financial Overview\n",
      "\n",
      "**Income Statement Highlights:**\n",
      "- **Total Revenue:** $1.296 billion\n",
      "- **Gross Profit:** $989.7 million\n",
      "- **Net Loss:** $183.9 million\n",
      "- **Diluted EPS:** -$0.55\n",
      "- **Total Operating Expenses:** $1.482 billion\n",
      "- **Gross Profit Margin:** Approximately 76.4%\n",
      "\n",
      "**Balance Sheet Highlights:**\n",
      "- **Total Assets:** $2.759 billion\n",
      "- **Total Liabilities:** $1.997 billion\n",
      "- **Equity:** $763 million\n",
      "- **Total Debt:** $1.435 billion\n",
      "- **Working Capital:** $1.416 billion\n",
      "\n",
      "### 2. Recent Stock Performance\n",
      "- **Current Price:** $117.16\n",
      "- **52-Week Range:** This indicates the volatility and price movement. The current price is higher within its operating range, which typically indicates upward momentum.\n",
      "- **Performance Trend:** Over the past 100 days, the stock has shown fluctuations but generally has been on an upward trend.\n",
      "\n",
      "### 3. Analysis\n",
      "- **Growth Potential:** Cloudflare is a leading provider of web security and performance solutions, which is a rapidly growing sector. Their significant revenue growth demonstrates strong demand for their services.\n",
      "- **Net Loss:** The company is currently operating at a loss, which may raise concerns about sustainability, but this is not unusual for growth-focused tech companies.\n",
      "- **Valuation:** The price-to-earnings ratio may not be favorable given the net loss; however, investors might anticipate long-term growth that justifies the current higher share price.\n",
      "- **Liquidity:** With strong working capital and assets exceeding liabilities, Cloudflare appears healthy from a liquidity standpoint.\n",
      "\n",
      "### Conclusion\n",
      "**Recommendation:**\n",
      "- **Risk vs. Reward:** While Cloudflare has strong growth potential and a solid market position, investors should be cautious due to ongoing net losses. If you are a risk-tolerant investor searching for long-term growth in the tech sector, Cloudflare could be a promising addition to your portfolio. \n",
      "- **Buy Consideration:** If you value high-growth technology stocks and seek exposure to the cybersecurity and performance sectors, consider purchasing. Conversely, if you prefer more stable, dividend-yielding stocks, it might be prudent to hold off.\n",
      "\n",
      "It's advisable to continuously monitor the company's performance, industry trends, and broader market conditions.\n"
     ]
    }
   ],
   "source": [
    "get_messages(thread.id)"
   ]
  },
  {
   "cell_type": "code",
   "execution_count": null,
   "metadata": {},
   "outputs": [],
   "source": [
    "send_message(thread.id, \"Please go ahead!\")"
   ]
  },
  {
   "cell_type": "code",
   "execution_count": 50,
   "metadata": {},
   "outputs": [
    {
     "name": "stdout",
     "output_type": "stream",
     "text": [
      "Calling function: get_income_statement with arg {\"ticker\": \"NET\"}\n",
      "Calling function: get_balance_sheet with arg {\"ticker\": \"NET\"}\n",
      "Calling function: get_daily_stock_performance with arg {\"ticker\": \"NET\"}\n"
     ]
    },
    {
     "data": {
      "text/plain": [
       "[{'output': '\"{\\\\\"1703980800000\\\\\":{\\\\\"Tax Effect Of Unusual Items\\\\\":-10563000.0,\\\\\"Tax Rate For Calcs\\\\\":0.21,\\\\\"Normalized EBITDA\\\\\":14130000.0,\\\\\"Total Unusual Items\\\\\":-50300000.0,\\\\\"Total Unusual Items Excluding Goodwill\\\\\":-50300000.0,\\\\\"Net Income From Continuing Operation Net Minority Interest\\\\\":-183949000.0,\\\\\"Reconciled Depreciation\\\\\":135820000.0,\\\\\"Reconciled Cost Of Revenue\\\\\":307005000.0,\\\\\"EBITDA\\\\\":-36170000.0,\\\\\"EBIT\\\\\":-171990000.0,\\\\\"Net Interest Income\\\\\":62295000.0,\\\\\"Interest Expense\\\\\":5872000.0,\\\\\"Interest Income\\\\\":68167000.0,\\\\\"Normalized Income\\\\\":-144212000.0,\\\\\"Net Income From Continuing And Discontinued Operation\\\\\":-183949000.0,\\\\\"Total Expenses\\\\\":1482230000.0,\\\\\"Total Operating Income As Reported\\\\\":-185485000.0,\\\\\"Diluted Average Shares\\\\\":333656000.0,\\\\\"Basic Average Shares\\\\\":333656000.0,\\\\\"Diluted EPS\\\\\":-0.55,\\\\\"Basic EPS\\\\\":-0.55,\\\\\"Diluted NI Availto Com Stockholders\\\\\":-183949000.0,\\\\\"Net Income Common Stockholders\\\\\":-183949000.0,\\\\\"Net Income\\\\\":-183949000.0,\\\\\"Net Income Including Noncontrolling Interests\\\\\":-183949000.0,\\\\\"Net Income Continuous Operations\\\\\":-183949000.0,\\\\\"Tax Provision\\\\\":6087000.0,\\\\\"Pretax Income\\\\\":-177862000.0,\\\\\"Other Income Expense\\\\\":-54672000.0,\\\\\"Other Non Operating Income Expenses\\\\\":-4372000.0,\\\\\"Special Income Charges\\\\\":-50300000.0,\\\\\"Other Special Charges\\\\\":50300000.0,\\\\\"Net Non Operating Interest Income Expense\\\\\":62295000.0,\\\\\"Interest Expense Non Operating\\\\\":5872000.0,\\\\\"Interest Income Non Operating\\\\\":68167000.0,\\\\\"Operating Income\\\\\":-185485000.0,\\\\\"Operating Expense\\\\\":1175225000.0,\\\\\"Research And Development\\\\\":358143000.0,\\\\\"Selling General And Administration\\\\\":817082000.0,\\\\\"Selling And Marketing Expense\\\\\":599117000.0,\\\\\"General And Administrative Expense\\\\\":217965000.0,\\\\\"Other Gand A\\\\\":217965000.0,\\\\\"Gross Profit\\\\\":989740000.0,\\\\\"Cost Of Revenue\\\\\":307005000.0,\\\\\"Total Revenue\\\\\":1296745000.0,\\\\\"Operating Revenue\\\\\":1296745000.0},\\\\\"1672444800000\\\\\":{\\\\\"Tax Effect Of Unusual Items\\\\\":0.0,\\\\\"Tax Rate For Calcs\\\\\":0.21,\\\\\"Normalized EBITDA\\\\\":-83414000.0,\\\\\"Total Unusual Items\\\\\":0.0,\\\\\"Total Unusual Items Excluding Goodwill\\\\\":0.0,\\\\\"Net Income From Continuing Operation Net Minority Interest\\\\\":-193381000.0,\\\\\"Reconciled Depreciation\\\\\":102335000.0,\\\\\"Reconciled Cost Of Revenue\\\\\":232610000.0,\\\\\"EBITDA\\\\\":-83414000.0,\\\\\"EBIT\\\\\":-185749000.0,\\\\\"Net Interest Income\\\\\":9893000.0,\\\\\"Interest Expense\\\\\":4984000.0,\\\\\"Interest Income\\\\\":14877000.0,\\\\\"Normalized Income\\\\\":-193381000.0,\\\\\"Net Income From Continuing And Discontinued Operation\\\\\":-193381000.0,\\\\\"Total Expenses\\\\\":1176444000.0,\\\\\"Total Operating Income As Reported\\\\\":-201203000.0,\\\\\"Diluted Average Shares\\\\\":326332000.0,\\\\\"Basic Average Shares\\\\\":326332000.0,\\\\\"Diluted EPS\\\\\":-0.59,\\\\\"Basic EPS\\\\\":-0.59,\\\\\"Diluted NI Availto Com Stockholders\\\\\":-193381000.0,\\\\\"Net Income Common Stockholders\\\\\":-193381000.0,\\\\\"Net Income\\\\\":-193381000.0,\\\\\"Net Income Including Noncontrolling Interests\\\\\":-193381000.0,\\\\\"Net Income Continuous Operations\\\\\":-193381000.0,\\\\\"Tax Provision\\\\\":2648000.0,\\\\\"Pretax Income\\\\\":-190733000.0,\\\\\"Other Income Expense\\\\\":577000.0,\\\\\"Other Non Operating Income Expenses\\\\\":577000.0,\\\\\"Special Income Charges\\\\\":0.0,\\\\\"Other Special Charges\\\\\":null,\\\\\"Net Non Operating Interest Income Expense\\\\\":9893000.0,\\\\\"Interest Expense Non Operating\\\\\":4984000.0,\\\\\"Interest Income Non Operating\\\\\":14877000.0,\\\\\"Operating Income\\\\\":-201203000.0,\\\\\"Operating Expense\\\\\":943834000.0,\\\\\"Research And Development\\\\\":298303000.0,\\\\\"Selling General And Administration\\\\\":645531000.0,\\\\\"Selling And Marketing Expense\\\\\":465762000.0,\\\\\"General And Administrative Expense\\\\\":179769000.0,\\\\\"Other Gand A\\\\\":179769000.0,\\\\\"Gross Profit\\\\\":742631000.0,\\\\\"Cost Of Revenue\\\\\":232610000.0,\\\\\"Total Revenue\\\\\":975241000.0,\\\\\"Operating Revenue\\\\\":975241000.0},\\\\\"1640908800000\\\\\":{\\\\\"Tax Effect Of Unusual Items\\\\\":-19503180.0,\\\\\"Tax Rate For Calcs\\\\\":0.27,\\\\\"Normalized EBITDA\\\\\":-59901000.0,\\\\\"Total Unusual Items\\\\\":-72234000.0,\\\\\"Total Unusual Items Excluding Goodwill\\\\\":-72234000.0,\\\\\"Net Income From Continuing Operation Net Minority Interest\\\\\":-260309000.0,\\\\\"Reconciled Depreciation\\\\\":66607000.0,\\\\\"Reconciled Cost Of Revenue\\\\\":147134000.0,\\\\\"EBITDA\\\\\":-132135000.0,\\\\\"EBIT\\\\\":-198742000.0,\\\\\"Net Interest Income\\\\\":-47264000.0,\\\\\"Interest Expense\\\\\":49234000.0,\\\\\"Interest Income\\\\\":1970000.0,\\\\\"Normalized Income\\\\\":-207578180.0,\\\\\"Net Income From Continuing And Discontinued Operation\\\\\":-260309000.0,\\\\\"Total Expenses\\\\\":784110000.0,\\\\\"Total Operating Income As Reported\\\\\":-127684000.0,\\\\\"Diluted Average Shares\\\\\":312321000.0,\\\\\"Basic Average Shares\\\\\":312321000.0,\\\\\"Diluted EPS\\\\\":-0.83,\\\\\"Basic EPS\\\\\":-0.83,\\\\\"Diluted NI Availto Com Stockholders\\\\\":-260309000.0,\\\\\"Net Income Common Stockholders\\\\\":-260309000.0,\\\\\"Net Income\\\\\":-260309000.0,\\\\\"Net Income Including Noncontrolling Interests\\\\\":-260309000.0,\\\\\"Net Income Continuous Operations\\\\\":-260309000.0,\\\\\"Tax Provision\\\\\":12333000.0,\\\\\"Pretax Income\\\\\":-247976000.0,\\\\\"Other Income Expense\\\\\":-73028000.0,\\\\\"Other Non Operating Income Expenses\\\\\":-794000.0,\\\\\"Special Income Charges\\\\\":-72234000.0,\\\\\"Other Special Charges\\\\\":72234000.0,\\\\\"Net Non Operating Interest Income Expense\\\\\":-47264000.0,\\\\\"Interest Expense Non Operating\\\\\":49234000.0,\\\\\"Interest Income Non Operating\\\\\":1970000.0,\\\\\"Operating Income\\\\\":-127684000.0,\\\\\"Operating Expense\\\\\":636976000.0,\\\\\"Research And Development\\\\\":189408000.0,\\\\\"Selling General And Administration\\\\\":447568000.0,\\\\\"Selling And Marketing Expense\\\\\":328065000.0,\\\\\"General And Administrative Expense\\\\\":119503000.0,\\\\\"Other Gand A\\\\\":119503000.0,\\\\\"Gross Profit\\\\\":509292000.0,\\\\\"Cost Of Revenue\\\\\":147134000.0,\\\\\"Total Revenue\\\\\":656426000.0,\\\\\"Operating Revenue\\\\\":656426000.0},\\\\\"1609372800000\\\\\":{\\\\\"Tax Effect Of Unusual Items\\\\\":0.0,\\\\\"Tax Rate For Calcs\\\\\":0.045,\\\\\"Normalized EBITDA\\\\\":-50622000.0,\\\\\"Total Unusual Items\\\\\":0.0,\\\\\"Total Unusual Items Excluding Goodwill\\\\\":0.0,\\\\\"Net Income From Continuing Operation Net Minority Interest\\\\\":-119370000.0,\\\\\"Reconciled Depreciation\\\\\":49387000.0,\\\\\"Reconciled Cost Of Revenue\\\\\":101055000.0,\\\\\"EBITDA\\\\\":-50622000.0,\\\\\"EBIT\\\\\":-100009000.0,\\\\\"Net Interest Income\\\\\":-18376000.0,\\\\\"Interest Expense\\\\\":24964000.0,\\\\\"Interest Income\\\\\":6588000.0,\\\\\"Normalized Income\\\\\":-119370000.0,\\\\\"Net Income From Continuing And Discontinued Operation\\\\\":-119370000.0,\\\\\"Total Expenses\\\\\":537827000.0,\\\\\"Total Operating Income As Reported\\\\\":-106768000.0,\\\\\"Diluted Average Shares\\\\\":299774000.0,\\\\\"Basic Average Shares\\\\\":299774000.0,\\\\\"Diluted EPS\\\\\":-0.4,\\\\\"Basic EPS\\\\\":-0.4,\\\\\"Diluted NI Availto Com Stockholders\\\\\":-119370000.0,\\\\\"Net Income Common Stockholders\\\\\":-119370000.0,\\\\\"Net Income\\\\\":-119370000.0,\\\\\"Net Income Including Noncontrolling Interests\\\\\":-119370000.0,\\\\\"Net Income Continuous Operations\\\\\":-119370000.0,\\\\\"Tax Provision\\\\\":-5603000.0,\\\\\"Pretax Income\\\\\":-124973000.0,\\\\\"Other Income Expense\\\\\":171000.0,\\\\\"Other Non Operating Income Expenses\\\\\":171000.0,\\\\\"Special Income Charges\\\\\":0.0,\\\\\"Other Special Charges\\\\\":null,\\\\\"Net Non Operating Interest Income Expense\\\\\":-18376000.0,\\\\\"Interest Expense Non Operating\\\\\":24964000.0,\\\\\"Interest Income Non Operating\\\\\":6588000.0,\\\\\"Operating Income\\\\\":-106768000.0,\\\\\"Operating Expense\\\\\":436772000.0,\\\\\"Research And Development\\\\\":127144000.0,\\\\\"Selling General And Administration\\\\\":309628000.0,\\\\\"Selling And Marketing Expense\\\\\":217875000.0,\\\\\"General And Administrative Expense\\\\\":91753000.0,\\\\\"Other Gand A\\\\\":91753000.0,\\\\\"Gross Profit\\\\\":330004000.0,\\\\\"Cost Of Revenue\\\\\":101055000.0,\\\\\"Total Revenue\\\\\":431059000.0,\\\\\"Operating Revenue\\\\\":431059000.0}}\"',\n",
       "  'tool_call_id': 'call_NuD8CkJW5iTQVRoXlA0g0EQf'},\n",
       " {'output': '\"{\\\\\"1703980800000\\\\\":{\\\\\"Treasury Shares Number\\\\\":0.0,\\\\\"Ordinary Shares Number\\\\\":337532000.0,\\\\\"Share Issued\\\\\":337532000.0,\\\\\"Net Debt\\\\\":1196498000.0,\\\\\"Total Debt\\\\\":1435203000.0,\\\\\"Tangible Book Value\\\\\":595436000.0,\\\\\"Invested Capital\\\\\":2046409000.0,\\\\\"Working Capital\\\\\":1415993000.0,\\\\\"Net Tangible Assets\\\\\":595436000.0,\\\\\"Capital Lease Obligations\\\\\":151841000.0,\\\\\"Common Stock Equity\\\\\":763047000.0,\\\\\"Total Capitalization\\\\\":2046409000.0,\\\\\"Total Equity Gross Minority Interest\\\\\":763047000.0,\\\\\"Stockholders Equity\\\\\":763047000.0,\\\\\"Other Equity Interest\\\\\":null,\\\\\"Gains Losses Not Affecting Retained Earnings\\\\\":1984000.0,\\\\\"Other Equity Adjustments\\\\\":1984000.0,\\\\\"Retained Earnings\\\\\":-1023840000.0,\\\\\"Additional Paid In Capital\\\\\":1784566000.0,\\\\\"Capital Stock\\\\\":337000.0,\\\\\"Common Stock\\\\\":337000.0,\\\\\"Total Liabilities Net Minority Interest\\\\\":1996720000.0,\\\\\"Total Non Current Liabilities Net Minority Interest\\\\\":1429636000.0,\\\\\"Other Non Current Liabilities\\\\\":15540000.0,\\\\\"Tradeand Other Payables Non Current\\\\\":null,\\\\\"Non Current Deferred Liabilities\\\\\":17244000.0,\\\\\"Non Current Deferred Revenue\\\\\":17244000.0,\\\\\"Long Term Debt And Capital Lease Obligation\\\\\":1396852000.0,\\\\\"Long Term Capital Lease Obligation\\\\\":113490000.0,\\\\\"Long Term Debt\\\\\":1283362000.0,\\\\\"Current Liabilities\\\\\":567084000.0,\\\\\"Other Current Liabilities\\\\\":null,\\\\\"Current Deferred Liabilities\\\\\":347608000.0,\\\\\"Current Deferred Revenue\\\\\":347608000.0,\\\\\"Current Debt And Capital Lease Obligation\\\\\":38351000.0,\\\\\"Current Capital Lease Obligation\\\\\":38351000.0,\\\\\"Current Debt\\\\\":null,\\\\\"Other Current Borrowings\\\\\":null,\\\\\"Pensionand Other Post Retirement Benefit Plans Current\\\\\":63801000.0,\\\\\"Payables And Accrued Expenses\\\\\":117324000.0,\\\\\"Current Accrued Expenses\\\\\":63597000.0,\\\\\"Payables\\\\\":53727000.0,\\\\\"Accounts Payable\\\\\":53727000.0,\\\\\"Total Assets\\\\\":2759767000.0,\\\\\"Total Non Current Assets\\\\\":776690000.0,\\\\\"Other Non Current Assets\\\\\":14474000.0,\\\\\"Non Current Deferred Assets\\\\\":133236000.0,\\\\\"Goodwill And Other Intangible Assets\\\\\":167611000.0,\\\\\"Other Intangible Assets\\\\\":19564000.0,\\\\\"Goodwill\\\\\":148047000.0,\\\\\"Net PPE\\\\\":461369000.0,\\\\\"Accumulated Depreciation\\\\\":-218480000.0,\\\\\"Gross PPE\\\\\":679849000.0,\\\\\"Leases\\\\\":42984000.0,\\\\\"Construction In Progress\\\\\":45557000.0,\\\\\"Other Properties\\\\\":469677000.0,\\\\\"Machinery Furniture Equipment\\\\\":121631000.0,\\\\\"Buildings And Improvements\\\\\":null,\\\\\"Properties\\\\\":0.0,\\\\\"Current Assets\\\\\":1983077000.0,\\\\\"Other Current Assets\\\\\":47502000.0,\\\\\"Restricted Cash\\\\\":2522000.0,\\\\\"Prepaid Assets\\\\\":null,\\\\\"Receivables\\\\\":259309000.0,\\\\\"Other Receivables\\\\\":11041000.0,\\\\\"Accounts Receivable\\\\\":248268000.0,\\\\\"Allowance For Doubtful Accounts Receivable\\\\\":-5996000.0,\\\\\"Gross Accounts Receivable\\\\\":254264000.0,\\\\\"Cash Cash Equivalents And Short Term Investments\\\\\":1673744000.0,\\\\\"Other Short Term Investments\\\\\":1586880000.0,\\\\\"Cash And Cash Equivalents\\\\\":86864000.0,\\\\\"Cash Equivalents\\\\\":40035000.0,\\\\\"Cash Financial\\\\\":46829000.0},\\\\\"1672444800000\\\\\":{\\\\\"Treasury Shares Number\\\\\":null,\\\\\"Ordinary Shares Number\\\\\":330086000.0,\\\\\"Share Issued\\\\\":330086000.0,\\\\\"Net Debt\\\\\":1232014000.0,\\\\\"Total Debt\\\\\":1577091000.0,\\\\\"Tangible Book Value\\\\\":443434000.0,\\\\\"Invested Capital\\\\\":2060156000.0,\\\\\"Working Capital\\\\\":1490014000.0,\\\\\"Net Tangible Assets\\\\\":443434000.0,\\\\\"Capital Lease Obligations\\\\\":140899000.0,\\\\\"Common Stock Equity\\\\\":623964000.0,\\\\\"Total Capitalization\\\\\":2060156000.0,\\\\\"Total Equity Gross Minority Interest\\\\\":623964000.0,\\\\\"Stockholders Equity\\\\\":623964000.0,\\\\\"Other Equity Interest\\\\\":null,\\\\\"Gains Losses Not Affecting Retained Earnings\\\\\":-11896000.0,\\\\\"Other Equity Adjustments\\\\\":-11896000.0,\\\\\"Retained Earnings\\\\\":-839891000.0,\\\\\"Additional Paid In Capital\\\\\":1475423000.0,\\\\\"Capital Stock\\\\\":328000.0,\\\\\"Common Stock\\\\\":328000.0,\\\\\"Total Liabilities Net Minority Interest\\\\\":1963944000.0,\\\\\"Total Non Current Liabilities Net Minority Interest\\\\\":1566074000.0,\\\\\"Other Non Current Liabilities\\\\\":10526000.0,\\\\\"Tradeand Other Payables Non Current\\\\\":null,\\\\\"Non Current Deferred Liabilities\\\\\":11732000.0,\\\\\"Non Current Deferred Revenue\\\\\":11732000.0,\\\\\"Long Term Debt And Capital Lease Obligation\\\\\":1543816000.0,\\\\\"Long Term Capital Lease Obligation\\\\\":107624000.0,\\\\\"Long Term Debt\\\\\":1436192000.0,\\\\\"Current Liabilities\\\\\":397870000.0,\\\\\"Other Current Liabilities\\\\\":1902000.0,\\\\\"Current Deferred Liabilities\\\\\":218647000.0,\\\\\"Current Deferred Revenue\\\\\":218647000.0,\\\\\"Current Debt And Capital Lease Obligation\\\\\":33275000.0,\\\\\"Current Capital Lease Obligation\\\\\":33275000.0,\\\\\"Current Debt\\\\\":null,\\\\\"Other Current Borrowings\\\\\":null,\\\\\"Pensionand Other Post Retirement Benefit Plans Current\\\\\":42014000.0,\\\\\"Payables And Accrued Expenses\\\\\":103934000.0,\\\\\"Current Accrued Expenses\\\\\":68327000.0,\\\\\"Payables\\\\\":35607000.0,\\\\\"Accounts Payable\\\\\":35607000.0,\\\\\"Total Assets\\\\\":2587908000.0,\\\\\"Total Non Current Assets\\\\\":700024000.0,\\\\\"Other Non Current Assets\\\\\":7389000.0,\\\\\"Non Current Deferred Assets\\\\\":93145000.0,\\\\\"Goodwill And Other Intangible Assets\\\\\":180530000.0,\\\\\"Other Intangible Assets\\\\\":32483000.0,\\\\\"Goodwill\\\\\":148047000.0,\\\\\"Net PPE\\\\\":418960000.0,\\\\\"Accumulated Depreciation\\\\\":-178901000.0,\\\\\"Gross PPE\\\\\":597861000.0,\\\\\"Leases\\\\\":20392000.0,\\\\\"Construction In Progress\\\\\":72827000.0,\\\\\"Other Properties\\\\\":373015000.0,\\\\\"Machinery Furniture Equipment\\\\\":131627000.0,\\\\\"Buildings And Improvements\\\\\":null,\\\\\"Properties\\\\\":0.0,\\\\\"Current Assets\\\\\":1887884000.0,\\\\\"Other Current Assets\\\\\":70556000.0,\\\\\"Restricted Cash\\\\\":10555000.0,\\\\\"Prepaid Assets\\\\\":null,\\\\\"Receivables\\\\\":156836000.0,\\\\\"Other Receivables\\\\\":8292000.0,\\\\\"Accounts Receivable\\\\\":148544000.0,\\\\\"Allowance For Doubtful Accounts Receivable\\\\\":-3134000.0,\\\\\"Gross Accounts Receivable\\\\\":151678000.0,\\\\\"Cash Cash Equivalents And Short Term Investments\\\\\":1649937000.0,\\\\\"Other Short Term Investments\\\\\":1445759000.0,\\\\\"Cash And Cash Equivalents\\\\\":204178000.0,\\\\\"Cash Equivalents\\\\\":127014000.0,\\\\\"Cash Financial\\\\\":77164000.0},\\\\\"1640908800000\\\\\":{\\\\\"Treasury Shares Number\\\\\":null,\\\\\"Ordinary Shares Number\\\\\":323612000.0,\\\\\"Share Issued\\\\\":323612000.0,\\\\\"Net Debt\\\\\":845217000.0,\\\\\"Total Debt\\\\\":1293206000.0,\\\\\"Tangible Book Value\\\\\":791014000.0,\\\\\"Invested Capital\\\\\":1974792000.0,\\\\\"Working Capital\\\\\":1667291000.0,\\\\\"Net Tangible Assets\\\\\":791014000.0,\\\\\"Capital Lease Obligations\\\\\":134212000.0,\\\\\"Common Stock Equity\\\\\":815798000.0,\\\\\"Total Capitalization\\\\\":1962675000.0,\\\\\"Total Equity Gross Minority Interest\\\\\":815798000.0,\\\\\"Stockholders Equity\\\\\":815798000.0,\\\\\"Other Equity Interest\\\\\":4439000.0,\\\\\"Gains Losses Not Affecting Retained Earnings\\\\\":-2645000.0,\\\\\"Other Equity Adjustments\\\\\":-2645000.0,\\\\\"Retained Earnings\\\\\":-680829000.0,\\\\\"Additional Paid In Capital\\\\\":1494512000.0,\\\\\"Capital Stock\\\\\":321000.0,\\\\\"Common Stock\\\\\":321000.0,\\\\\"Total Liabilities Net Minority Interest\\\\\":1556273000.0,\\\\\"Total Non Current Liabilities Net Minority Interest\\\\\":1267708000.0,\\\\\"Other Non Current Liabilities\\\\\":7114000.0,\\\\\"Tradeand Other Payables Non Current\\\\\":null,\\\\\"Non Current Deferred Liabilities\\\\\":4680000.0,\\\\\"Non Current Deferred Revenue\\\\\":4680000.0,\\\\\"Long Term Debt And Capital Lease Obligation\\\\\":1255914000.0,\\\\\"Long Term Capital Lease Obligation\\\\\":109037000.0,\\\\\"Long Term Debt\\\\\":1146877000.0,\\\\\"Current Liabilities\\\\\":288565000.0,\\\\\"Other Current Liabilities\\\\\":4651000.0,\\\\\"Current Deferred Liabilities\\\\\":116546000.0,\\\\\"Current Deferred Revenue\\\\\":116546000.0,\\\\\"Current Debt And Capital Lease Obligation\\\\\":37292000.0,\\\\\"Current Capital Lease Obligation\\\\\":25175000.0,\\\\\"Current Debt\\\\\":12117000.0,\\\\\"Other Current Borrowings\\\\\":12117000.0,\\\\\"Pensionand Other Post Retirement Benefit Plans Current\\\\\":65905000.0,\\\\\"Payables And Accrued Expenses\\\\\":64171000.0,\\\\\"Current Accrued Expenses\\\\\":38085000.0,\\\\\"Payables\\\\\":26086000.0,\\\\\"Accounts Payable\\\\\":26086000.0,\\\\\"Total Assets\\\\\":2372071000.0,\\\\\"Total Non Current Assets\\\\\":416215000.0,\\\\\"Other Non Current Assets\\\\\":7061000.0,\\\\\"Non Current Deferred Assets\\\\\":70320000.0,\\\\\"Goodwill And Other Intangible Assets\\\\\":24784000.0,\\\\\"Other Intangible Assets\\\\\":1254000.0,\\\\\"Goodwill\\\\\":23530000.0,\\\\\"Net PPE\\\\\":314050000.0,\\\\\"Accumulated Depreciation\\\\\":-120213000.0,\\\\\"Gross PPE\\\\\":434263000.0,\\\\\"Leases\\\\\":12892000.0,\\\\\"Construction In Progress\\\\\":41424000.0,\\\\\"Other Properties\\\\\":282206000.0,\\\\\"Machinery Furniture Equipment\\\\\":97741000.0,\\\\\"Buildings And Improvements\\\\\":null,\\\\\"Properties\\\\\":0.0,\\\\\"Current Assets\\\\\":1955856000.0,\\\\\"Other Current Assets\\\\\":29433000.0,\\\\\"Restricted Cash\\\\\":2958000.0,\\\\\"Prepaid Assets\\\\\":29433000.0,\\\\\"Receivables\\\\\":101622000.0,\\\\\"Other Receivables\\\\\":6079000.0,\\\\\"Accounts Receivable\\\\\":95543000.0,\\\\\"Allowance For Doubtful Accounts Receivable\\\\\":-2644000.0,\\\\\"Gross Accounts Receivable\\\\\":98187000.0,\\\\\"Cash Cash Equivalents And Short Term Investments\\\\\":1821843000.0,\\\\\"Other Short Term Investments\\\\\":1508066000.0,\\\\\"Cash And Cash Equivalents\\\\\":313777000.0,\\\\\"Cash Equivalents\\\\\":313777000.0,\\\\\"Cash Financial\\\\\":64021000.0},\\\\\"1609372800000\\\\\":{\\\\\"Treasury Shares Number\\\\\":null,\\\\\"Ordinary Shares Number\\\\\":308640000.0,\\\\\"Share Issued\\\\\":308640000.0,\\\\\"Net Debt\\\\\":274380000.0,\\\\\"Total Debt\\\\\":428301000.0,\\\\\"Tangible Book Value\\\\\":796973000.0,\\\\\"Invested Capital\\\\\":1200215000.0,\\\\\"Working Capital\\\\\":988577000.0,\\\\\"Net Tangible Assets\\\\\":796973000.0,\\\\\"Capital Lease Obligations\\\\\":45026000.0,\\\\\"Common Stock Equity\\\\\":816940000.0,\\\\\"Total Capitalization\\\\\":1200215000.0,\\\\\"Total Equity Gross Minority Interest\\\\\":816940000.0,\\\\\"Stockholders Equity\\\\\":816940000.0,\\\\\"Other Equity Interest\\\\\":null,\\\\\"Gains Losses Not Affecting Retained Earnings\\\\\":163000.0,\\\\\"Other Equity Adjustments\\\\\":163000.0,\\\\\"Retained Earnings\\\\\":-420520000.0,\\\\\"Additional Paid In Capital\\\\\":1236993000.0,\\\\\"Capital Stock\\\\\":304000.0,\\\\\"Common Stock\\\\\":304000.0,\\\\\"Total Liabilities Net Minority Interest\\\\\":563711000.0,\\\\\"Total Non Current Liabilities Net Minority Interest\\\\\":422334000.0,\\\\\"Other Non Current Liabilities\\\\\":9859000.0,\\\\\"Tradeand Other Payables Non Current\\\\\":7033000.0,\\\\\"Non Current Deferred Liabilities\\\\\":1891000.0,\\\\\"Non Current Deferred Revenue\\\\\":1891000.0,\\\\\"Long Term Debt And Capital Lease Obligation\\\\\":410584000.0,\\\\\"Long Term Capital Lease Obligation\\\\\":27309000.0,\\\\\"Long Term Debt\\\\\":383275000.0,\\\\\"Current Liabilities\\\\\":141377000.0,\\\\\"Other Current Liabilities\\\\\":8603000.0,\\\\\"Current Deferred Liabilities\\\\\":54945000.0,\\\\\"Current Deferred Revenue\\\\\":54945000.0,\\\\\"Current Debt And Capital Lease Obligation\\\\\":17717000.0,\\\\\"Current Capital Lease Obligation\\\\\":17717000.0,\\\\\"Current Debt\\\\\":null,\\\\\"Other Current Borrowings\\\\\":null,\\\\\"Pensionand Other Post Retirement Benefit Plans Current\\\\\":25410000.0,\\\\\"Payables And Accrued Expenses\\\\\":34702000.0,\\\\\"Current Accrued Expenses\\\\\":20217000.0,\\\\\"Payables\\\\\":14485000.0,\\\\\"Accounts Payable\\\\\":14485000.0,\\\\\"Total Assets\\\\\":1380651000.0,\\\\\"Total Non Current Assets\\\\\":250697000.0,\\\\\"Other Non Current Assets\\\\\":19718000.0,\\\\\"Non Current Deferred Assets\\\\\":44176000.0,\\\\\"Goodwill And Other Intangible Assets\\\\\":19967000.0,\\\\\"Other Intangible Assets\\\\\":2800000.0,\\\\\"Goodwill\\\\\":17167000.0,\\\\\"Net PPE\\\\\":166836000.0,\\\\\"Accumulated Depreciation\\\\\":-82608000.0,\\\\\"Gross PPE\\\\\":249444000.0,\\\\\"Leases\\\\\":10686000.0,\\\\\"Construction In Progress\\\\\":11242000.0,\\\\\"Other Properties\\\\\":152566000.0,\\\\\"Machinery Furniture Equipment\\\\\":74950000.0,\\\\\"Buildings And Improvements\\\\\":0.0,\\\\\"Properties\\\\\":0.0,\\\\\"Current Assets\\\\\":1129954000.0,\\\\\"Other Current Assets\\\\\":10295000.0,\\\\\"Restricted Cash\\\\\":2591000.0,\\\\\"Prepaid Assets\\\\\":28230000.0,\\\\\"Receivables\\\\\":67037000.0,\\\\\"Other Receivables\\\\\":3538000.0,\\\\\"Accounts Receivable\\\\\":63499000.0,\\\\\"Allowance For Doubtful Accounts Receivable\\\\\":-1703000.0,\\\\\"Gross Accounts Receivable\\\\\":65202000.0,\\\\\"Cash Cash Equivalents And Short Term Investments\\\\\":1032096000.0,\\\\\"Other Short Term Investments\\\\\":923201000.0,\\\\\"Cash And Cash Equivalents\\\\\":108895000.0,\\\\\"Cash Equivalents\\\\\":89372000.0,\\\\\"Cash Financial\\\\\":19523000.0}}\"',\n",
       "  'tool_call_id': 'call_vj5Rawsk3ZtGgxPnBlHH8EVC'},\n",
       " {'output': '\"{\\\\\"Open\\\\\":{\\\\\"1729828800000\\\\\":89.8199996948,\\\\\"1730088000000\\\\\":89.3799972534,\\\\\"1730174400000\\\\\":88.4400024414,\\\\\"1730260800000\\\\\":89.5,\\\\\"1730347200000\\\\\":88.2900009155,\\\\\"1730433600000\\\\\":88.6100006104,\\\\\"1730696400000\\\\\":87.0,\\\\\"1730782800000\\\\\":86.9199981689,\\\\\"1730869200000\\\\\":90.25,\\\\\"1730955600000\\\\\":94.8899993896,\\\\\"1731042000000\\\\\":88.4499969482,\\\\\"1731301200000\\\\\":91.25,\\\\\"1731387600000\\\\\":92.8899993896,\\\\\"1731474000000\\\\\":91.4199981689,\\\\\"1731560400000\\\\\":94.4599990845,\\\\\"1731646800000\\\\\":90.4300003052,\\\\\"1731906000000\\\\\":89.9749984741,\\\\\"1731992400000\\\\\":91.4649963379,\\\\\"1732078800000\\\\\":96.5599975586,\\\\\"1732165200000\\\\\":99.7600021362,\\\\\"1732251600000\\\\\":104.0,\\\\\"1732510800000\\\\\":106.75,\\\\\"1732597200000\\\\\":104.0,\\\\\"1732683600000\\\\\":101.8799972534,\\\\\"1732856400000\\\\\":99.5599975586,\\\\\"1733115600000\\\\\":106.0299987793,\\\\\"1733202000000\\\\\":103.3700027466,\\\\\"1733288400000\\\\\":107.0,\\\\\"1733374800000\\\\\":109.4100036621,\\\\\"1733461200000\\\\\":111.2799987793,\\\\\"1733720400000\\\\\":112.9599990845,\\\\\"1733806800000\\\\\":112.8000030518,\\\\\"1733893200000\\\\\":112.3949966431,\\\\\"1733979600000\\\\\":112.4000015259,\\\\\"1734066000000\\\\\":114.8000030518,\\\\\"1734325200000\\\\\":113.9000015259,\\\\\"1734411600000\\\\\":118.2300033569,\\\\\"1734498000000\\\\\":117.5800018311,\\\\\"1734584400000\\\\\":110.3700027466,\\\\\"1734670800000\\\\\":108.0,\\\\\"1734930000000\\\\\":112.1600036621,\\\\\"1735016400000\\\\\":111.75,\\\\\"1735189200000\\\\\":112.1100006104,\\\\\"1735275600000\\\\\":111.9449996948,\\\\\"1735534800000\\\\\":108.6699981689,\\\\\"1735621200000\\\\\":109.0,\\\\\"1735794000000\\\\\":114.5,\\\\\"1735880400000\\\\\":113.4000015259,\\\\\"1736139600000\\\\\":116.3649978638,\\\\\"1736226000000\\\\\":116.6399993896,\\\\\"1736312400000\\\\\":112.4300003052,\\\\\"1736485200000\\\\\":111.1299972534,\\\\\"1736744400000\\\\\":110.0350036621,\\\\\"1736830800000\\\\\":112.4599990845,\\\\\"1736917200000\\\\\":113.5599975586,\\\\\"1737003600000\\\\\":115.4199981689,\\\\\"1737090000000\\\\\":119.4199981689,\\\\\"1737435600000\\\\\":119.2600021362,\\\\\"1737522000000\\\\\":120.7050018311,\\\\\"1737608400000\\\\\":122.9899978638,\\\\\"1737694800000\\\\\":125.0},\\\\\"High\\\\\":{\\\\\"1729828800000\\\\\":90.6500015259,\\\\\"1730088000000\\\\\":90.0800018311,\\\\\"1730174400000\\\\\":89.6299972534,\\\\\"1730260800000\\\\\":91.3099975586,\\\\\"1730347200000\\\\\":88.7300033569,\\\\\"1730433600000\\\\\":88.6999969482,\\\\\"1730696400000\\\\\":87.7600021362,\\\\\"1730782800000\\\\\":88.1500015259,\\\\\"1730869200000\\\\\":92.6200027466,\\\\\"1730955600000\\\\\":97.5329971313,\\\\\"1731042000000\\\\\":92.1999969482,\\\\\"1731301200000\\\\\":95.3600006104,\\\\\"1731387600000\\\\\":94.0,\\\\\"1731474000000\\\\\":99.1699981689,\\\\\"1731560400000\\\\\":95.4499969482,\\\\\"1731646800000\\\\\":91.1299972534,\\\\\"1731906000000\\\\\":92.9000015259,\\\\\"1731992400000\\\\\":96.5599975586,\\\\\"1732078800000\\\\\":96.9599990845,\\\\\"1732165200000\\\\\":104.4899978638,\\\\\"1732251600000\\\\\":105.9400024414,\\\\\"1732510800000\\\\\":106.75,\\\\\"1732597200000\\\\\":105.0,\\\\\"1732683600000\\\\\":101.8799972534,\\\\\"1732856400000\\\\\":101.1399993896,\\\\\"1733115600000\\\\\":108.6169967651,\\\\\"1733202000000\\\\\":105.888999939,\\\\\"1733288400000\\\\\":110.8499984741,\\\\\"1733374800000\\\\\":112.8399963379,\\\\\"1733461200000\\\\\":113.6999969482,\\\\\"1733720400000\\\\\":114.6949996948,\\\\\"1733806800000\\\\\":113.8700027466,\\\\\"1733893200000\\\\\":115.8399963379,\\\\\"1733979600000\\\\\":115.1200027466,\\\\\"1734066000000\\\\\":115.2900009155,\\\\\"1734325200000\\\\\":115.4300003052,\\\\\"1734411600000\\\\\":119.4199981689,\\\\\"1734498000000\\\\\":117.5800018311,\\\\\"1734584400000\\\\\":111.1299972534,\\\\\"1734670800000\\\\\":113.5,\\\\\"1734930000000\\\\\":113.2699966431,\\\\\"1735016400000\\\\\":113.0999984741,\\\\\"1735189200000\\\\\":113.5400009155,\\\\\"1735275600000\\\\\":112.3600006104,\\\\\"1735534800000\\\\\":109.4000015259,\\\\\"1735621200000\\\\\":109.0400009155,\\\\\"1735794000000\\\\\":114.75,\\\\\"1735880400000\\\\\":114.8000030518,\\\\\"1736139600000\\\\\":117.0800018311,\\\\\"1736226000000\\\\\":118.1299972534,\\\\\"1736312400000\\\\\":115.9000015259,\\\\\"1736485200000\\\\\":113.25,\\\\\"1736744400000\\\\\":111.1600036621,\\\\\"1736830800000\\\\\":113.9000015259,\\\\\"1736917200000\\\\\":115.5199966431,\\\\\"1737003600000\\\\\":116.4700012207,\\\\\"1737090000000\\\\\":121.0199966431,\\\\\"1737435600000\\\\\":120.4499969482,\\\\\"1737522000000\\\\\":123.1299972534,\\\\\"1737608400000\\\\\":124.6399993896,\\\\\"1737694800000\\\\\":125.7099990845},\\\\\"Low\\\\\":{\\\\\"1729828800000\\\\\":88.4700012207,\\\\\"1730088000000\\\\\":87.7799987793,\\\\\"1730174400000\\\\\":87.3300018311,\\\\\"1730260800000\\\\\":89.3570022583,\\\\\"1730347200000\\\\\":87.0999984741,\\\\\"1730433600000\\\\\":86.2570037842,\\\\\"1730696400000\\\\\":85.5999984741,\\\\\"1730782800000\\\\\":86.4250030518,\\\\\"1730869200000\\\\\":89.8150024414,\\\\\"1730955600000\\\\\":94.1100006104,\\\\\"1731042000000\\\\\":87.2399978638,\\\\\"1731301200000\\\\\":90.8000030518,\\\\\"1731387600000\\\\\":89.4499969482,\\\\\"1731474000000\\\\\":91.25,\\\\\"1731560400000\\\\\":91.0599975586,\\\\\"1731646800000\\\\\":87.7699966431,\\\\\"1731906000000\\\\\":89.5500030518,\\\\\"1731992400000\\\\\":91.4199981689,\\\\\"1732078800000\\\\\":93.1600036621,\\\\\"1732165200000\\\\\":99.3300018311,\\\\\"1732251600000\\\\\":102.8700027466,\\\\\"1732510800000\\\\\":103.0790023804,\\\\\"1732597200000\\\\\":101.6699981689,\\\\\"1732683600000\\\\\":98.5800018311,\\\\\"1732856400000\\\\\":98.8899993896,\\\\\"1733115600000\\\\\":104.6100006104,\\\\\"1733202000000\\\\\":103.2099990845,\\\\\"1733288400000\\\\\":106.9400024414,\\\\\"1733374800000\\\\\":108.6100006104,\\\\\"1733461200000\\\\\":110.3499984741,\\\\\"1733720400000\\\\\":111.2799987793,\\\\\"1733806800000\\\\\":109.7300033569,\\\\\"1733893200000\\\\\":112.0,\\\\\"1733979600000\\\\\":111.3300018311,\\\\\"1734066000000\\\\\":112.6100006104,\\\\\"1734325200000\\\\\":112.1699981689,\\\\\"1734411600000\\\\\":116.0100021362,\\\\\"1734498000000\\\\\":108.4700012207,\\\\\"1734584400000\\\\\":107.0,\\\\\"1734670800000\\\\\":107.0699996948,\\\\\"1734930000000\\\\\":110.5299987793,\\\\\"1735016400000\\\\\":111.7030029297,\\\\\"1735189200000\\\\\":111.5500030518,\\\\\"1735275600000\\\\\":108.2099990845,\\\\\"1735534800000\\\\\":107.4899978638,\\\\\"1735621200000\\\\\":106.986000061,\\\\\"1735794000000\\\\\":110.6800003052,\\\\\"1735880400000\\\\\":112.0599975586,\\\\\"1736139600000\\\\\":112.5149993896,\\\\\"1736226000000\\\\\":112.9499969482,\\\\\"1736312400000\\\\\":111.4850006104,\\\\\"1736485200000\\\\\":109.5009994507,\\\\\"1736744400000\\\\\":108.5849990845,\\\\\"1736830800000\\\\\":111.3199996948,\\\\\"1736917200000\\\\\":113.1399993896,\\\\\"1737003600000\\\\\":114.1100006104,\\\\\"1737090000000\\\\\":116.7750015259,\\\\\"1737435600000\\\\\":117.9400024414,\\\\\"1737522000000\\\\\":119.8700027466,\\\\\"1737608400000\\\\\":122.0,\\\\\"1737694800000\\\\\":123.2799987793},\\\\\"Close\\\\\":{\\\\\"1729828800000\\\\\":88.7600021362,\\\\\"1730088000000\\\\\":87.9400024414,\\\\\"1730174400000\\\\\":89.5199966431,\\\\\"1730260800000\\\\\":89.8499984741,\\\\\"1730347200000\\\\\":87.7099990845,\\\\\"1730433600000\\\\\":87.5500030518,\\\\\"1730696400000\\\\\":86.4899978638,\\\\\"1730782800000\\\\\":87.7099990845,\\\\\"1730869200000\\\\\":92.5100021362,\\\\\"1730955600000\\\\\":95.6600036621,\\\\\"1731042000000\\\\\":91.25,\\\\\"1731301200000\\\\\":93.2300033569,\\\\\"1731387600000\\\\\":90.9100036621,\\\\\"1731474000000\\\\\":94.1600036621,\\\\\"1731560400000\\\\\":91.9300003052,\\\\\"1731646800000\\\\\":89.7699966431,\\\\\"1731906000000\\\\\":92.2900009155,\\\\\"1731992400000\\\\\":96.3700027466,\\\\\"1732078800000\\\\\":96.4700012207,\\\\\"1732165200000\\\\\":104.2399978638,\\\\\"1732251600000\\\\\":104.2300033569,\\\\\"1732510800000\\\\\":103.7300033569,\\\\\"1732597200000\\\\\":102.2300033569,\\\\\"1732683600000\\\\\":99.3700027466,\\\\\"1732856400000\\\\\":99.8300018311,\\\\\"1733115600000\\\\\":105.0500030518,\\\\\"1733202000000\\\\\":104.9100036621,\\\\\"1733288400000\\\\\":110.7200012207,\\\\\"1733374800000\\\\\":110.4599990845,\\\\\"1733461200000\\\\\":112.9599990845,\\\\\"1733720400000\\\\\":113.8700027466,\\\\\"1733806800000\\\\\":111.1999969482,\\\\\"1733893200000\\\\\":114.5100021362,\\\\\"1733979600000\\\\\":114.8899993896,\\\\\"1734066000000\\\\\":113.5999984741,\\\\\"1734325200000\\\\\":114.6500015259,\\\\\"1734411600000\\\\\":117.5599975586,\\\\\"1734498000000\\\\\":109.0999984741,\\\\\"1734584400000\\\\\":108.5800018311,\\\\\"1734670800000\\\\\":112.6900024414,\\\\\"1734930000000\\\\\":111.5800018311,\\\\\"1735016400000\\\\\":112.5800018311,\\\\\"1735189200000\\\\\":112.6100006104,\\\\\"1735275600000\\\\\":110.6100006104,\\\\\"1735534800000\\\\\":109.0299987793,\\\\\"1735621200000\\\\\":107.6800003052,\\\\\"1735794000000\\\\\":112.5400009155,\\\\\"1735880400000\\\\\":114.7300033569,\\\\\"1736139600000\\\\\":113.9899978638,\\\\\"1736226000000\\\\\":113.6699981689,\\\\\"1736312400000\\\\\":115.6999969482,\\\\\"1736485200000\\\\\":112.6200027466,\\\\\"1736744400000\\\\\":110.7099990845,\\\\\"1736830800000\\\\\":112.0,\\\\\"1736917200000\\\\\":114.4800033569,\\\\\"1737003600000\\\\\":114.8199996948,\\\\\"1737090000000\\\\\":117.1600036621,\\\\\"1737435600000\\\\\":119.8499984741,\\\\\"1737522000000\\\\\":123.0899963379,\\\\\"1737608400000\\\\\":123.9300003052,\\\\\"1737694800000\\\\\":125.1200027466},\\\\\"Volume\\\\\":{\\\\\"1729828800000\\\\\":1437300,\\\\\"1730088000000\\\\\":1396700,\\\\\"1730174400000\\\\\":1441500,\\\\\"1730260800000\\\\\":2402400,\\\\\"1730347200000\\\\\":2111100,\\\\\"1730433600000\\\\\":1963800,\\\\\"1730696400000\\\\\":2016900,\\\\\"1730782800000\\\\\":1920400,\\\\\"1730869200000\\\\\":2938400,\\\\\"1730955600000\\\\\":7095200,\\\\\"1731042000000\\\\\":7777200,\\\\\"1731301200000\\\\\":5152300,\\\\\"1731387600000\\\\\":2521200,\\\\\"1731474000000\\\\\":5786300,\\\\\"1731560400000\\\\\":2646400,\\\\\"1731646800000\\\\\":3373500,\\\\\"1731906000000\\\\\":3140600,\\\\\"1731992400000\\\\\":3554800,\\\\\"1732078800000\\\\\":2368300,\\\\\"1732165200000\\\\\":5690500,\\\\\"1732251600000\\\\\":3113400,\\\\\"1732510800000\\\\\":2816500,\\\\\"1732597200000\\\\\":2365100,\\\\\"1732683600000\\\\\":2340000,\\\\\"1732856400000\\\\\":1042400,\\\\\"1733115600000\\\\\":4588400,\\\\\"1733202000000\\\\\":1699400,\\\\\"1733288400000\\\\\":4434100,\\\\\"1733374800000\\\\\":3254400,\\\\\"1733461200000\\\\\":2745300,\\\\\"1733720400000\\\\\":3199100,\\\\\"1733806800000\\\\\":2703300,\\\\\"1733893200000\\\\\":2604100,\\\\\"1733979600000\\\\\":1633000,\\\\\"1734066000000\\\\\":1927900,\\\\\"1734325200000\\\\\":2197600,\\\\\"1734411600000\\\\\":3870400,\\\\\"1734498000000\\\\\":3932100,\\\\\"1734584400000\\\\\":3150600,\\\\\"1734670800000\\\\\":5114600,\\\\\"1734930000000\\\\\":1635900,\\\\\"1735016400000\\\\\":526500,\\\\\"1735189200000\\\\\":787100,\\\\\"1735275600000\\\\\":1496500,\\\\\"1735534800000\\\\\":1449200,\\\\\"1735621200000\\\\\":1292300,\\\\\"1735794000000\\\\\":3973200,\\\\\"1735880400000\\\\\":3157900,\\\\\"1736139600000\\\\\":2424500,\\\\\"1736226000000\\\\\":3628000,\\\\\"1736312400000\\\\\":3030000,\\\\\"1736485200000\\\\\":2292000,\\\\\"1736744400000\\\\\":2125900,\\\\\"1736830800000\\\\\":1928000,\\\\\"1736917200000\\\\\":2293300,\\\\\"1737003600000\\\\\":2058800,\\\\\"1737090000000\\\\\":3544100,\\\\\"1737435600000\\\\\":2700700,\\\\\"1737522000000\\\\\":2523900,\\\\\"1737608400000\\\\\":2602900,\\\\\"1737694800000\\\\\":2108600},\\\\\"Dividends\\\\\":{\\\\\"1729828800000\\\\\":0.0,\\\\\"1730088000000\\\\\":0.0,\\\\\"1730174400000\\\\\":0.0,\\\\\"1730260800000\\\\\":0.0,\\\\\"1730347200000\\\\\":0.0,\\\\\"1730433600000\\\\\":0.0,\\\\\"1730696400000\\\\\":0.0,\\\\\"1730782800000\\\\\":0.0,\\\\\"1730869200000\\\\\":0.0,\\\\\"1730955600000\\\\\":0.0,\\\\\"1731042000000\\\\\":0.0,\\\\\"1731301200000\\\\\":0.0,\\\\\"1731387600000\\\\\":0.0,\\\\\"1731474000000\\\\\":0.0,\\\\\"1731560400000\\\\\":0.0,\\\\\"1731646800000\\\\\":0.0,\\\\\"1731906000000\\\\\":0.0,\\\\\"1731992400000\\\\\":0.0,\\\\\"1732078800000\\\\\":0.0,\\\\\"1732165200000\\\\\":0.0,\\\\\"1732251600000\\\\\":0.0,\\\\\"1732510800000\\\\\":0.0,\\\\\"1732597200000\\\\\":0.0,\\\\\"1732683600000\\\\\":0.0,\\\\\"1732856400000\\\\\":0.0,\\\\\"1733115600000\\\\\":0.0,\\\\\"1733202000000\\\\\":0.0,\\\\\"1733288400000\\\\\":0.0,\\\\\"1733374800000\\\\\":0.0,\\\\\"1733461200000\\\\\":0.0,\\\\\"1733720400000\\\\\":0.0,\\\\\"1733806800000\\\\\":0.0,\\\\\"1733893200000\\\\\":0.0,\\\\\"1733979600000\\\\\":0.0,\\\\\"1734066000000\\\\\":0.0,\\\\\"1734325200000\\\\\":0.0,\\\\\"1734411600000\\\\\":0.0,\\\\\"1734498000000\\\\\":0.0,\\\\\"1734584400000\\\\\":0.0,\\\\\"1734670800000\\\\\":0.0,\\\\\"1734930000000\\\\\":0.0,\\\\\"1735016400000\\\\\":0.0,\\\\\"1735189200000\\\\\":0.0,\\\\\"1735275600000\\\\\":0.0,\\\\\"1735534800000\\\\\":0.0,\\\\\"1735621200000\\\\\":0.0,\\\\\"1735794000000\\\\\":0.0,\\\\\"1735880400000\\\\\":0.0,\\\\\"1736139600000\\\\\":0.0,\\\\\"1736226000000\\\\\":0.0,\\\\\"1736312400000\\\\\":0.0,\\\\\"1736485200000\\\\\":0.0,\\\\\"1736744400000\\\\\":0.0,\\\\\"1736830800000\\\\\":0.0,\\\\\"1736917200000\\\\\":0.0,\\\\\"1737003600000\\\\\":0.0,\\\\\"1737090000000\\\\\":0.0,\\\\\"1737435600000\\\\\":0.0,\\\\\"1737522000000\\\\\":0.0,\\\\\"1737608400000\\\\\":0.0,\\\\\"1737694800000\\\\\":0.0},\\\\\"Stock Splits\\\\\":{\\\\\"1729828800000\\\\\":0.0,\\\\\"1730088000000\\\\\":0.0,\\\\\"1730174400000\\\\\":0.0,\\\\\"1730260800000\\\\\":0.0,\\\\\"1730347200000\\\\\":0.0,\\\\\"1730433600000\\\\\":0.0,\\\\\"1730696400000\\\\\":0.0,\\\\\"1730782800000\\\\\":0.0,\\\\\"1730869200000\\\\\":0.0,\\\\\"1730955600000\\\\\":0.0,\\\\\"1731042000000\\\\\":0.0,\\\\\"1731301200000\\\\\":0.0,\\\\\"1731387600000\\\\\":0.0,\\\\\"1731474000000\\\\\":0.0,\\\\\"1731560400000\\\\\":0.0,\\\\\"1731646800000\\\\\":0.0,\\\\\"1731906000000\\\\\":0.0,\\\\\"1731992400000\\\\\":0.0,\\\\\"1732078800000\\\\\":0.0,\\\\\"1732165200000\\\\\":0.0,\\\\\"1732251600000\\\\\":0.0,\\\\\"1732510800000\\\\\":0.0,\\\\\"1732597200000\\\\\":0.0,\\\\\"1732683600000\\\\\":0.0,\\\\\"1732856400000\\\\\":0.0,\\\\\"1733115600000\\\\\":0.0,\\\\\"1733202000000\\\\\":0.0,\\\\\"1733288400000\\\\\":0.0,\\\\\"1733374800000\\\\\":0.0,\\\\\"1733461200000\\\\\":0.0,\\\\\"1733720400000\\\\\":0.0,\\\\\"1733806800000\\\\\":0.0,\\\\\"1733893200000\\\\\":0.0,\\\\\"1733979600000\\\\\":0.0,\\\\\"1734066000000\\\\\":0.0,\\\\\"1734325200000\\\\\":0.0,\\\\\"1734411600000\\\\\":0.0,\\\\\"1734498000000\\\\\":0.0,\\\\\"1734584400000\\\\\":0.0,\\\\\"1734670800000\\\\\":0.0,\\\\\"1734930000000\\\\\":0.0,\\\\\"1735016400000\\\\\":0.0,\\\\\"1735189200000\\\\\":0.0,\\\\\"1735275600000\\\\\":0.0,\\\\\"1735534800000\\\\\":0.0,\\\\\"1735621200000\\\\\":0.0,\\\\\"1735794000000\\\\\":0.0,\\\\\"1735880400000\\\\\":0.0,\\\\\"1736139600000\\\\\":0.0,\\\\\"1736226000000\\\\\":0.0,\\\\\"1736312400000\\\\\":0.0,\\\\\"1736485200000\\\\\":0.0,\\\\\"1736744400000\\\\\":0.0,\\\\\"1736830800000\\\\\":0.0,\\\\\"1736917200000\\\\\":0.0,\\\\\"1737003600000\\\\\":0.0,\\\\\"1737090000000\\\\\":0.0,\\\\\"1737435600000\\\\\":0.0,\\\\\"1737522000000\\\\\":0.0,\\\\\"1737608400000\\\\\":0.0,\\\\\"1737694800000\\\\\":0.0}}\"',\n",
       "  'tool_call_id': 'call_7UVoXcXwJTObLGJwVqjM5hpX'}]"
      ]
     },
     "execution_count": 50,
     "metadata": {},
     "output_type": "execute_result"
    }
   ],
   "source": [
    "get_tool_outputs(run.id, thread.id)"
   ]
  },
  {
   "cell_type": "code",
   "execution_count": 53,
   "metadata": {},
   "outputs": [
    {
     "name": "stdout",
     "output_type": "stream",
     "text": [
      "Calling function: get_income_statement with arg {\"ticker\": \"NET\"}\n",
      "Calling function: get_balance_sheet with arg {\"ticker\": \"NET\"}\n",
      "Calling function: get_daily_stock_performance with arg {\"ticker\": \"NET\"}\n"
     ]
    },
    {
     "data": {
      "text/plain": [
       "Run(id='run_tzkQMC603pjt3AwFloH5eYFu', assistant_id='asst_sgTX3TAy06FPU13MqF1zOeqw', cancelled_at=None, completed_at=None, created_at=1737793842, expires_at=1737794442, failed_at=None, incomplete_details=None, instructions='You help users do research on publicly traded companies and you help users decide if they should buy the stock or not.', last_error=None, max_completion_tokens=None, max_prompt_tokens=None, metadata={}, model='gpt-4o-mini', object='thread.run', parallel_tool_calls=True, required_action=None, response_format='auto', started_at=1737793914, status='queued', thread_id='thread_F7Oz93ouBEOnDc74dC94A3yM', tool_choice='auto', tools=[FunctionTool(function=FunctionDefinition(name='get_ticker', description='Given the name of a company returns its ticker symbol', parameters={'type': 'object', 'properties': {'company_name': {'type': 'string', 'description': 'The name of the company'}}, 'required': ['company_name']}, strict=False), type='function'), FunctionTool(function=FunctionDefinition(name='get_income_statement', description=\"Given a ticker symbol (i.e AAPL) returns the company's income statement.\", parameters={'type': 'object', 'properties': {'ticker': {'type': 'string', 'description': 'Ticker symbol of the company'}}, 'required': ['ticker']}, strict=False), type='function'), FunctionTool(function=FunctionDefinition(name='get_balance_sheet', description=\"Given a ticker symbol (i.e AAPL) returns the company's balance sheet.\", parameters={'type': 'object', 'properties': {'ticker': {'type': 'string', 'description': 'Ticker symbol of the company'}}, 'required': ['ticker']}, strict=False), type='function'), FunctionTool(function=FunctionDefinition(name='get_daily_stock_performance', description='Given a ticker symbol (i.e AAPL) returns the performance of the stock for the last 100 days.', parameters={'type': 'object', 'properties': {'ticker': {'type': 'string', 'description': 'Ticker symbol of the company'}}, 'required': ['ticker']}, strict=False), type='function')], truncation_strategy=TruncationStrategy(type='auto', last_messages=None), usage=None, temperature=1.0, top_p=1.0, tool_resources={})"
      ]
     },
     "execution_count": 53,
     "metadata": {},
     "output_type": "execute_result"
    }
   ],
   "source": [
    "submit_tool_outputs(run.id, thread.id)"
   ]
  }
 ],
 "metadata": {
  "kernelspec": {
   "display_name": "env",
   "language": "python",
   "name": "python3"
  },
  "language_info": {
   "codemirror_mode": {
    "name": "ipython",
    "version": 3
   },
   "file_extension": ".py",
   "mimetype": "text/x-python",
   "name": "python",
   "nbconvert_exporter": "python",
   "pygments_lexer": "ipython3",
   "version": "3.11.7"
  }
 },
 "nbformat": 4,
 "nbformat_minor": 2
}
