{
 "cells": [
  {
   "cell_type": "code",
   "execution_count": 2,
   "metadata": {},
   "outputs": [
    {
     "name": "stdout",
     "output_type": "stream",
     "text": [
      "\n",
      "\n",
      "\u001b[1m> Entering new AgentExecutor chain...\u001b[0m\n",
      "\u001b[32;1m\u001b[1;3mIt seems like the question is incomplete or not properly formed. I need to clarify what specific information or query is being asked about DuckDuckGo results. \n",
      "\n",
      "Action: None\n",
      "Action Input: None\u001b[0m\n",
      "Observation: None is not a valid tool, try one of [wikipedia, duckduckgo_results_json].\n",
      "Thought:\u001b[32;1m\u001b[1;3mIt seems I need a specific question or topic to search for. Since the input is unclear, I cannot proceed with an action. \n",
      "\n",
      "Final Answer: Please provide a specific question or topic for me to assist you with.\u001b[0m\n",
      "\n",
      "\u001b[1m> Finished chain.\u001b[0m\n"
     ]
    },
    {
     "data": {
      "text/plain": [
       "{'input': 'The DuckDuckGo results are: .',\n",
       " 'output': 'Please provide a specific question or topic for me to assist you with.'}"
      ]
     },
     "execution_count": 2,
     "metadata": {},
     "output_type": "execute_result"
    }
   ],
   "source": [
    "import re\n",
    "from langchain.agents import initialize_agent, AgentType\n",
    "from langchain.chat_models import ChatOpenAI\n",
    "from langchain.tools import (\n",
    "    WikipediaQueryRun,\n",
    "    DuckDuckGoSearchRun,\n",
    "    DuckDuckGoSearchResults,\n",
    ")\n",
    "from langchain.utilities import WikipediaAPIWrapper\n",
    "from langchain.document_loaders import WebBaseLoader\n",
    "\n",
    "llm = ChatOpenAI(\n",
    "    temperature=0.1,\n",
    "    model_name=\"gpt-4o-mini\",\n",
    ")\n",
    "\n",
    "wikipedia = WikipediaQueryRun(api_wrapper=WikipediaAPIWrapper())\n",
    "ddg = DuckDuckGoSearchResults(\n",
    "    backend=\"auto\",\n",
    "    description=\"A wrapper around Duck Duck Go Search. Useful for when you need to answer questions about current events. Input should be a search query. Output is a JSON string array of the query results\",\n",
    ")\n",
    "\n",
    "query = \"Research about the XZ backdoor\"\n",
    "wikipedia_results = wikipedia.run(query)\n",
    "ddg_results = ddg.run(query)\n",
    "\n",
    "\n",
    "# 정규 표현식으로 'link' 찾기\n",
    "links = re.findall(r\"link:\\s*(https?://[^\\]]+)\", ddg_results)\n",
    "\n",
    "# print(\"wikipedia_results\", wikipedia_results)\n",
    "\n",
    "loader = WebBaseLoader(links)\n",
    "docs = loader.load()\n",
    "\n",
    "with open(\"./research_results.txt\", \"w\") as f:\n",
    "    for doc in docs:\n",
    "        final_doc = doc.page_content.replace(\"\\n\", \" \").replace(\"\\xa0\", \" \")\n",
    "        f.write(final_doc)\n",
    "\n",
    "\n",
    "agent = initialize_agent(\n",
    "    llm=llm,\n",
    "    agent_type=AgentType.OPENAI_FUNCTIONS,\n",
    "    verbose=True,\n",
    "    tools=[\n",
    "        wikipedia,\n",
    "        ddg,\n",
    "    ],\n",
    ")\n",
    "\n",
    "# The Wikipedia results are: {wikipedia_results}.\n",
    "agent.invoke(f\"The DuckDuckGo results are: {ddg_results}.\")"
   ]
  }
 ],
 "metadata": {
  "kernelspec": {
   "display_name": "env",
   "language": "python",
   "name": "python3"
  },
  "language_info": {
   "codemirror_mode": {
    "name": "ipython",
    "version": 3
   },
   "file_extension": ".py",
   "mimetype": "text/x-python",
   "name": "python",
   "nbconvert_exporter": "python",
   "pygments_lexer": "ipython3",
   "version": "3.11.7"
  }
 },
 "nbformat": 4,
 "nbformat_minor": 2
}
