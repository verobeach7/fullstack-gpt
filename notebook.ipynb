{
 "cells": [
  {
   "cell_type": "code",
   "execution_count": null,
   "metadata": {},
   "outputs": [
    {
     "data": {
      "text/plain": [
       "{'history': 'Human: Hi\\nAI: How are you?'}"
      ]
     },
     "execution_count": 2,
     "metadata": {},
     "output_type": "execute_result"
    }
   ],
   "source": [
    "from langchain.memory import ConversationBufferMemory\n",
    "\n",
    "# return_messages=False가 Default Value\n",
    "# True 설정 시 Chat형식 meesage로 저장해줌\n",
    "# False 설정 시 문자열로 저장\n",
    "memory= ConversationBufferMemory(return_messages=False)\n",
    "\n",
    "# api에 따라 딕셔너리로 넣어줘야 함({})\n",
    "memory.save_context({\"input\":\"Hi\"},{\"output\":\"How are you?\"})\n",
    "\n",
    "memory.load_memory_variables({})\n",
    "# True: {'history': [HumanMessage(content='Hi'), AIMessage(content='How are you?')]}\n",
    "# False: {'history': 'Human: Hi\\nAI: How are you?'}"
   ]
  }
 ],
 "metadata": {
  "kernelspec": {
   "display_name": "env",
   "language": "python",
   "name": "python3"
  },
  "language_info": {
   "codemirror_mode": {
    "name": "ipython",
    "version": 3
   },
   "file_extension": ".py",
   "mimetype": "text/x-python",
   "name": "python",
   "nbconvert_exporter": "python",
   "pygments_lexer": "ipython3",
   "version": "3.11.7"
  }
 },
 "nbformat": 4,
 "nbformat_minor": 2
}
