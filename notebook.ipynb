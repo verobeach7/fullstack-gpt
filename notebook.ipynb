{
 "cells": [
  {
   "cell_type": "code",
   "execution_count": 4,
   "metadata": {},
   "outputs": [],
   "source": [
    "import subprocess\n",
    "from pydub import AudioSegment\n",
    "\n",
    "\n",
    "# video_path: 동영상의 경로\n",
    "# audio_path: 추출한 audio가 저장될 경로\n",
    "def extract_audio_from_video(video_path, audio_path):\n",
    "    command = [\n",
    "        \"ffmpeg\",\n",
    "        \"-i\",  # input\n",
    "        video_path,\n",
    "        \"-vn\",  # video nope: ignore the video\n",
    "        audio_path,\n",
    "        \"-y\",  # 이미 파일이 존재하는 경우 덮어쓰기를 함\n",
    "    ]\n",
    "    # subprocess는 python code에서 command line 명령을 사용할 수 있게 해줌\n",
    "    subprocess.run(command)\n",
    "\n",
    "\n",
    "track = AudioSegment.from_mp3(\"./files/podcast.mp3\")\n",
    "\n",
    "# track의 길이 확인: 초 단위로 나옴\n",
    "# print(track.duration_seconds)\n",
    "\n",
    "ten_minutes = 10 * 60 * 1000\n",
    "\n",
    "# pydub의 AudioSegment는 오디오트랙을 리스트처럼 다룰 수 있게 해 줌\n",
    "# five_minutes = 5 * 60 * 1000\n",
    "# first_five = track[:five_minutes]\n",
    "# first_five.export(\"./files/first_five.mp3\", format=\"mp3\")"
   ]
  },
  {
   "cell_type": "code",
   "execution_count": null,
   "metadata": {},
   "outputs": [],
   "source": [
    "import math\n",
    "import os\n",
    "\n",
    "# 10분씩 잘랐을 때 자투리를 포함시키기 위해 .ceil 처리\n",
    "chunks = math.ceil(len(track) / ten_minutes)\n",
    "\n",
    "# 10분 단위로 자르기 위한 로직\n",
    "for i in range(chunks):\n",
    "    start_time = i * ten_minutes\n",
    "    end_time = (i + 1) * ten_minutes\n",
    "\n",
    "    chunk = track[start_time:end_time]\n",
    "\n",
    "    # chunk가 저장될 path 설정\n",
    "    chunk_path = f\"./files/chunks/chunk_{i}.mp3\"\n",
    "    # chunk_path의 directory 결정\n",
    "    directory = os.path.dirname(chunk_path)\n",
    "\n",
    "    # 해당 directory가 없다면 생성\n",
    "    if not os.path.exists(directory):\n",
    "        os.makedirs(directory, exist_ok=True)\n",
    "\n",
    "    # chunk_path에 파일을 저장\n",
    "    chunk.export(chunk_path, format=\"mp3\")"
   ]
  }
 ],
 "metadata": {
  "kernelspec": {
   "display_name": "env",
   "language": "python",
   "name": "python3"
  },
  "language_info": {
   "codemirror_mode": {
    "name": "ipython",
    "version": 3
   },
   "file_extension": ".py",
   "mimetype": "text/x-python",
   "name": "python",
   "nbconvert_exporter": "python",
   "pygments_lexer": "ipython3",
   "version": "3.11.7"
  }
 },
 "nbformat": 4,
 "nbformat_minor": 2
}
