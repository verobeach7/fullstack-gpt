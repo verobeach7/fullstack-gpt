{
 "cells": [
  {
   "cell_type": "code",
   "execution_count": 18,
   "metadata": {},
   "outputs": [],
   "source": [
    "import subprocess\n",
    "import math\n",
    "import os\n",
    "from pydub import AudioSegment\n",
    "\n",
    "\n",
    "# video_path: 동영상의 경로\n",
    "# audio_path: 추출한 audio가 저장될 경로\n",
    "def extract_audio_from_video(video_path, audio_path):\n",
    "    command = [\n",
    "        \"ffmpeg\",\n",
    "        \"-i\",  # input\n",
    "        video_path,\n",
    "        \"-vn\",  # video nope: ignore the video\n",
    "        audio_path,\n",
    "        \"-y\",  # 이미 파일이 존재하는 경우 덮어쓰기를 함\n",
    "    ]\n",
    "    # subprocess는 python code에서 command line 명령을 사용할 수 있게 해줌\n",
    "    subprocess.run(command)\n",
    "\n",
    "\n",
    "# 확장 가능한 함수로 작성\n",
    "# audio_path: 오디오트랙 파일이 있는 곳, chunk_size: 몇 분 단위로 쪼갤지, chunks_folder: 쪼갠 오디오트랙을 저장할 폴더\n",
    "def cut_audio_in_chunks(audio_path, chunk_size, chunks_folder):\n",
    "    track = AudioSegment.from_mp3(audio_path)\n",
    "    chunk_len = chunk_size * 60 * 1000\n",
    "    chunks = math.ceil(len(track) / chunk_len)\n",
    "    for i in range(chunks):\n",
    "        start_time = i * chunk_len\n",
    "        end_time = (i + 1) * chunk_len\n",
    "\n",
    "        chunk = track[start_time:end_time]\n",
    "        chunk_path = f\"{chunks_folder}/chunk_{i:03d}.mp3\"\n",
    "        directory = os.path.dirname(chunk_path)\n",
    "\n",
    "        if not os.path.exists(directory):\n",
    "            os.makedirs(directory, exist_ok=True)\n",
    "\n",
    "        chunk.export(chunk_path, format=\"mp3\")"
   ]
  },
  {
   "cell_type": "code",
   "execution_count": 3,
   "metadata": {},
   "outputs": [],
   "source": [
    "cut_audio_in_chunks(\"./files/podcast.mp3\", 10, \"./files/chunks\")"
   ]
  },
  {
   "cell_type": "code",
   "execution_count": 19,
   "metadata": {},
   "outputs": [],
   "source": [
    "from openai import OpenAI\n",
    "\n",
    "# glob는 패턴을 사용하여 디렉토리 내부의 파일을 검색할 수 있도록 해줌\n",
    "import glob\n",
    "\n",
    "client = OpenAI()\n",
    "\n",
    "\n",
    "def transcribe_chunks(chunk_folder, destination):\n",
    "    files = sorted(glob.glob(f\"{chunk_folder}/*.mp3\"))\n",
    "\n",
    "    for file in files:\n",
    "        # \"a\": appending mode로 파일을 열었기 때문에 기존 파일의 내용을 덮어쓰는 것이 아니라 기존 내용 뒤에 붙여나감\n",
    "        with open(file, \"rb\") as audio_file, open(destination, \"a\") as text_file:\n",
    "            transcript = client.audio.transcriptions.create(\n",
    "                model=\"whisper-1\",\n",
    "                file=audio_file,\n",
    "            )\n",
    "            text_file.write(transcript.text)"
   ]
  },
  {
   "cell_type": "code",
   "execution_count": 20,
   "metadata": {},
   "outputs": [],
   "source": [
    "transcribe_chunks(\"./files/chunks/\", \"./files/transcript.txt\")"
   ]
  }
 ],
 "metadata": {
  "kernelspec": {
   "display_name": "env",
   "language": "python",
   "name": "python3"
  },
  "language_info": {
   "codemirror_mode": {
    "name": "ipython",
    "version": 3
   },
   "file_extension": ".py",
   "mimetype": "text/x-python",
   "name": "python",
   "nbconvert_exporter": "python",
   "pygments_lexer": "ipython3",
   "version": "3.11.7"
  }
 },
 "nbformat": 4,
 "nbformat_minor": 2
}
