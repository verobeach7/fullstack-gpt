{
 "cells": [
  {
   "cell_type": "code",
   "execution_count": null,
   "metadata": {},
   "outputs": [],
   "source": [
    "from langchain_community.llms.gpt4all import GPT4All\n",
    "from langchain.prompts import PromptTemplate\n",
    "from langchain_core.callbacks import StreamingStdOutCallbackHandler\n",
    "\n",
    "prompt = PromptTemplate.from_template(\"A {word} is a\")\n",
    "\n",
    "# 실행(Run) 시 모델을 알아서 다운로드 함\n",
    "llm = GPT4All(\n",
    "    model=\"Meta-Llama-3-8B-Instruct.Q4_0.gguf\",  # select model\n",
    "    # backend=\"gpu\",  # use gpu\n",
    "    # streaming=True,  # streaming\n",
    "    # callbacks=[StreamingStdOutCallbackHandler()],  # callback\n",
    ")\n",
    "\n",
    "chain = prompt | llm\n",
    "\n",
    "chain.invoke({\"word\": \"potato\"})"
   ]
  }
 ],
 "metadata": {
  "kernelspec": {
   "display_name": "env",
   "language": "python",
   "name": "python3"
  },
  "language_info": {
   "codemirror_mode": {
    "name": "ipython",
    "version": 3
   },
   "file_extension": ".py",
   "mimetype": "text/x-python",
   "name": "python",
   "nbconvert_exporter": "python",
   "pygments_lexer": "ipython3",
   "version": "3.11.7"
  }
 },
 "nbformat": 4,
 "nbformat_minor": 2
}
