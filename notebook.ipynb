{
 "cells": [
  {
   "cell_type": "code",
   "execution_count": 3,
   "metadata": {},
   "outputs": [
    {
     "data": {
      "text/plain": [
       "'{\"questions\":[{\"question\":\"What is the capital city of Italy?\",\"answers\":[{\"answer\":\"Rome\",\"correct\":true},{\"answer\":\"Milan\",\"correct\":false},{\"answer\":\"Florence\",\"correct\":false},{\"answer\":\"Venice\",\"correct\":false},{\"answer\":\"Naples\",\"correct\":false}]},{\"question\":\"Which ancient civilization built the Colosseum in Rome?\",\"answers\":[{\"answer\":\"Greeks\",\"correct\":false},{\"answer\":\"Romans\",\"correct\":true},{\"answer\":\"Egyptians\",\"correct\":false},{\"answer\":\"Persians\",\"correct\":false},{\"answer\":\"Mayans\",\"correct\":false}]},{\"question\":\"Who was the first Roman Emperor?\",\"answers\":[{\"answer\":\"Julius Caesar\",\"correct\":false},{\"answer\":\"Augustus\",\"correct\":true},{\"answer\":\"Nero\",\"correct\":false},{\"answer\":\"Caligula\",\"correct\":false},{\"answer\":\"Trajan\",\"correct\":false}]},{\"question\":\"What river runs through the city of Rome?\",\"answers\":[{\"answer\":\"Nile\",\"correct\":false},{\"answer\":\"Tiber\",\"correct\":true},{\"answer\":\"Danube\",\"correct\":false},{\"answer\":\"Seine\",\"correct\":false},{\"answer\":\"Thames\",\"correct\":false}]},{\"question\":\"Which famous fountain is located in Rome\\'s Piazza di Trevi?\",\"answers\":[{\"answer\":\"Fountain of Youth\",\"correct\":false},{\"answer\":\"Fountain of Love\",\"correct\":false},{\"answer\":\"Trevi Fountain\",\"correct\":true},{\"answer\":\"Fountain of Dreams\",\"correct\":false},{\"answer\":\"Fountain of Wealth\",\"correct\":false}]}]}'"
      ]
     },
     "execution_count": 3,
     "metadata": {},
     "output_type": "execute_result"
    }
   ],
   "source": [
    "from langchain.chat_models import ChatOpenAI\n",
    "from langchain.prompts import PromptTemplate\n",
    "\n",
    "\n",
    "function = {\n",
    "    \"name\": \"create_quiz\",\n",
    "    \"description\": \"function that takes a list of questions and answers and returns a quiz\",\n",
    "    \"parameters\": {\n",
    "        \"type\": \"object\",\n",
    "        \"properties\": {\n",
    "            \"questions\": {\n",
    "                \"type\": \"array\",\n",
    "                \"items\": {\n",
    "                    \"type\": \"object\",\n",
    "                    \"properties\": {\n",
    "                        \"question\": {\n",
    "                            \"type\": \"string\",\n",
    "                        },\n",
    "                        \"answers\": {\n",
    "                            \"type\": \"array\",\n",
    "                            \"items\": {\n",
    "                                \"type\": \"object\",\n",
    "                                \"properties\": {\n",
    "                                    \"answer\": {\n",
    "                                        \"type\": \"string\",\n",
    "                                    },\n",
    "                                    \"correct\": {\n",
    "                                        \"type\": \"boolean\",\n",
    "                                    },\n",
    "                                },\n",
    "                                \"required\": [\"answer\", \"correct\"],\n",
    "                            },\n",
    "                        },\n",
    "                    },\n",
    "                    \"required\": [\"question\", \"answers\"],\n",
    "                },\n",
    "            }\n",
    "        },\n",
    "        \"required\": [\"questions\"],\n",
    "    },\n",
    "}\n",
    "\n",
    "\n",
    "llm = ChatOpenAI(\n",
    "    temperature=0.1,\n",
    ").bind(\n",
    "    function_call={\n",
    "        \"name\": \"create_quiz\",\n",
    "    },\n",
    "    functions=[\n",
    "        function,\n",
    "    ],\n",
    ")\n",
    "\n",
    "prompt = PromptTemplate.from_template(\n",
    "    \"Make a quiz about {city}. each answers have five answer. one correct answer and four false answer\"\n",
    ")\n",
    "\n",
    "chain = prompt | llm\n",
    "\n",
    "response = chain.invoke({\"city\": \"rome\"})\n",
    "\n",
    "\n",
    "response = response.additional_kwargs[\"function_call\"][\"arguments\"]\n",
    "\n",
    "response"
   ]
  },
  {
   "cell_type": "code",
   "execution_count": 4,
   "metadata": {},
   "outputs": [
    {
     "name": "stdout",
     "output_type": "stream",
     "text": [
      "{'question': 'What is the capital city of Italy?', 'answers': [{'answer': 'Rome', 'correct': True}, {'answer': 'Milan', 'correct': False}, {'answer': 'Florence', 'correct': False}, {'answer': 'Venice', 'correct': False}, {'answer': 'Naples', 'correct': False}]}\n",
      "{'question': 'Which ancient civilization built the Colosseum in Rome?', 'answers': [{'answer': 'Greeks', 'correct': False}, {'answer': 'Romans', 'correct': True}, {'answer': 'Egyptians', 'correct': False}, {'answer': 'Persians', 'correct': False}, {'answer': 'Mayans', 'correct': False}]}\n",
      "{'question': 'Who was the first Roman Emperor?', 'answers': [{'answer': 'Julius Caesar', 'correct': False}, {'answer': 'Augustus', 'correct': True}, {'answer': 'Nero', 'correct': False}, {'answer': 'Caligula', 'correct': False}, {'answer': 'Trajan', 'correct': False}]}\n",
      "{'question': 'What river runs through the city of Rome?', 'answers': [{'answer': 'Nile', 'correct': False}, {'answer': 'Tiber', 'correct': True}, {'answer': 'Danube', 'correct': False}, {'answer': 'Seine', 'correct': False}, {'answer': 'Thames', 'correct': False}]}\n",
      "{'question': \"Which famous fountain is located in Rome's Piazza di Trevi?\", 'answers': [{'answer': 'Fountain of Youth', 'correct': False}, {'answer': 'Fountain of Love', 'correct': False}, {'answer': 'Trevi Fountain', 'correct': True}, {'answer': 'Fountain of Dreams', 'correct': False}, {'answer': 'Fountain of Wealth', 'correct': False}]}\n"
     ]
    }
   ],
   "source": [
    "import json\n",
    "\n",
    "for question in json.loads(response)[\"questions\"]:\n",
    "    print(question)"
   ]
  }
 ],
 "metadata": {
  "kernelspec": {
   "display_name": "env",
   "language": "python",
   "name": "python3"
  },
  "language_info": {
   "codemirror_mode": {
    "name": "ipython",
    "version": 3
   },
   "file_extension": ".py",
   "mimetype": "text/x-python",
   "name": "python",
   "nbconvert_exporter": "python",
   "pygments_lexer": "ipython3",
   "version": "3.11.7"
  }
 },
 "nbformat": 4,
 "nbformat_minor": 2
}
