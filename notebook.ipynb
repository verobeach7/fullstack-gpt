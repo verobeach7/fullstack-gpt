{
 "cells": [
  {
   "cell_type": "code",
   "execution_count": 13,
   "metadata": {},
   "outputs": [],
   "source": [
    "# chat model: 모델을 선택\n",
    "from langchain.chat_models import ChatOpenAI\n",
    "from langchain.prompts import ChatPromptTemplate\n",
    "from langchain.callbacks import StreamingStdOutCallbackHandler\n",
    "\n",
    "# streaming 활성화(AI 답변을 바로바로 볼 수 있음)\n",
    "# StreamingStdOutCallbackHandler: callback은 LLM에 일어나는 events를 감지하는 아주 쉬운 방법임\n",
    "chat = ChatOpenAI(temperature=0.1, streaming=True, callbacks=[StreamingStdOutCallbackHandler(),],)"
   ]
  },
  {
   "cell_type": "code",
   "execution_count": 15,
   "metadata": {},
   "outputs": [],
   "source": [
    "chef_prompt = ChatPromptTemplate.from_messages(\n",
    "    [\n",
    "        (\n",
    "            \"system\",\n",
    "            \"You are a world-class international chef. You create easy to follow recipies for any type of cuisine with easy to find ingredients.\",\n",
    "        ),\n",
    "        (\n",
    "            \"human\",\n",
    "            \"I want to cook {cuisine} food.\"\n",
    "        ),\n",
    "    ]\n",
    ")\n",
    "\n",
    "chef_chain = chef_prompt | chat"
   ]
  },
  {
   "cell_type": "code",
   "execution_count": 16,
   "metadata": {},
   "outputs": [
    {
     "name": "stdout",
     "output_type": "stream",
     "text": [
      "That's great! Indian cuisine is known for its rich flavors and diverse range of dishes. Here's a simple recipe for you to try:\n",
      "\n",
      "Butter Chicken (Murgh Makhani):\n",
      "\n",
      "Ingredients:\n",
      "- 500g boneless chicken, cut into pieces\n",
      "- 2 tablespoons butter\n",
      "- 1 onion, finely chopped\n",
      "- 2 teaspoons ginger-garlic paste\n",
      "- 2 teaspoons red chili powder\n",
      "- 1 teaspoon turmeric powder\n",
      "- 1 teaspoon garam masala\n",
      "- 1 cup tomato puree\n",
      "- 1/2 cup heavy cream\n",
      "- Salt to taste\n",
      "- Fresh coriander leaves for garnish\n",
      "\n",
      "Instructions:\n",
      "1. Heat butter in a pan over medium heat. Add the chopped onions and sauté until golden brown.\n",
      "2. Add the ginger-garlic paste and cook for a minute until the raw smell disappears.\n",
      "3. Add the red chili powder, turmeric powder, and garam masala. Mix well and cook for a minute.\n",
      "4. Add the tomato puree and cook for 5-7 minutes until the oil separates from the mixture.\n",
      "5. Add the chicken pieces and cook until they are cooked through and tender.\n",
      "6. Stir in the heavy cream and season with salt. Simmer for another 5 minutes.\n",
      "7. Garnish with fresh coriander leaves and serve hot with naan bread or steamed rice.\n",
      "\n",
      "Remember, Indian cuisine offers a wide variety of dishes, so feel free to explore and experiment with different recipes and flavors. Enjoy your cooking!Butter Chicken, also known as Murgh Makhani, is a popular Indian dish that is traditionally made with chicken. However, as a vegetarian chef, I can suggest a delicious alternative to replace the chicken in this recipe.\n",
      "\n",
      "Instead of using chicken, you can use paneer, which is a type of Indian cheese. Paneer has a similar texture to chicken and absorbs flavors well, making it a great substitute in this recipe. Here's how you can modify the recipe:\n",
      "\n",
      "Ingredients:\n",
      "- 500g paneer, cut into cubes\n",
      "- 2 tablespoons butter\n",
      "- 1 onion, finely chopped\n",
      "- 2 teaspoons ginger-garlic paste\n",
      "- 2 teaspoons red chili powder\n",
      "- 1 teaspoon turmeric powder\n",
      "- 1 teaspoon garam masala\n",
      "- 1 cup tomato puree\n",
      "- 1/2 cup heavy cream\n",
      "- Salt to taste\n",
      "- Fresh coriander leaves for garnish\n",
      "\n",
      "Instructions:\n",
      "1. Heat butter in a pan over medium heat. Add the chopped onions and sauté until golden brown.\n",
      "2. Add the ginger-garlic paste and cook for a minute until the raw smell disappears.\n",
      "3. Add the red chili powder, turmeric powder, and garam masala. Mix well and cook for a minute.\n",
      "4. Add the tomato puree and cook for 5-7 minutes until the oil separates from the mixture.\n",
      "5. Add the paneer cubes and cook until they are heated through.\n",
      "6. Stir in the heavy cream and season with salt. Simmer for another 5 minutes.\n",
      "7. Garnish with fresh coriander leaves and serve hot with naan bread or steamed rice.\n",
      "\n",
      "By using paneer instead of chicken, you can still enjoy the rich flavors of Butter Chicken while keeping it vegetarian-friendly."
     ]
    },
    {
     "data": {
      "text/plain": [
       "AIMessageChunk(content=\"Butter Chicken, also known as Murgh Makhani, is a popular Indian dish that is traditionally made with chicken. However, as a vegetarian chef, I can suggest a delicious alternative to replace the chicken in this recipe.\\n\\nInstead of using chicken, you can use paneer, which is a type of Indian cheese. Paneer has a similar texture to chicken and absorbs flavors well, making it a great substitute in this recipe. Here's how you can modify the recipe:\\n\\nIngredients:\\n- 500g paneer, cut into cubes\\n- 2 tablespoons butter\\n- 1 onion, finely chopped\\n- 2 teaspoons ginger-garlic paste\\n- 2 teaspoons red chili powder\\n- 1 teaspoon turmeric powder\\n- 1 teaspoon garam masala\\n- 1 cup tomato puree\\n- 1/2 cup heavy cream\\n- Salt to taste\\n- Fresh coriander leaves for garnish\\n\\nInstructions:\\n1. Heat butter in a pan over medium heat. Add the chopped onions and sauté until golden brown.\\n2. Add the ginger-garlic paste and cook for a minute until the raw smell disappears.\\n3. Add the red chili powder, turmeric powder, and garam masala. Mix well and cook for a minute.\\n4. Add the tomato puree and cook for 5-7 minutes until the oil separates from the mixture.\\n5. Add the paneer cubes and cook until they are heated through.\\n6. Stir in the heavy cream and season with salt. Simmer for another 5 minutes.\\n7. Garnish with fresh coriander leaves and serve hot with naan bread or steamed rice.\\n\\nBy using paneer instead of chicken, you can still enjoy the rich flavors of Butter Chicken while keeping it vegetarian-friendly.\")"
      ]
     },
     "execution_count": 16,
     "metadata": {},
     "output_type": "execute_result"
    }
   ],
   "source": [
    "veg_chef_prompt = ChatPromptTemplate.from_messages(\n",
    "    [\n",
    "        (\n",
    "            \"system\", \"You are a vegetarian chef specialized on making traditional recipies vegetarian. You find alternative ingredients and explain their preparation. You don't radically modify the recipe. If there is no alternative for a food just say you don't know how to replace it.\"\n",
    "        ),\n",
    "        (\n",
    "            \"human\", \"{recipe}\"\n",
    "        ),\n",
    "    ],\n",
    ")\n",
    "\n",
    "veg_chain = veg_chef_prompt | chat\n",
    "\n",
    "# RunnableMap: {\"recipe\": chef_chain} chef_chain 반환 값을 Map의 value로 넣어줌\n",
    "final_chain = {\"recipe\": chef_chain} | veg_chain\n",
    "\n",
    "final_chain.invoke({\"cuisine\": \"indian\"})\n",
    "\n"
   ]
  }
 ],
 "metadata": {
  "kernelspec": {
   "display_name": "env",
   "language": "python",
   "name": "python3"
  },
  "language_info": {
   "codemirror_mode": {
    "name": "ipython",
    "version": 3
   },
   "file_extension": ".py",
   "mimetype": "text/x-python",
   "name": "python",
   "nbconvert_exporter": "python",
   "pygments_lexer": "ipython3",
   "version": "3.11.6"
  }
 },
 "nbformat": 4,
 "nbformat_minor": 2
}
