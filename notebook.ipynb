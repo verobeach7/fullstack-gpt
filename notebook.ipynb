{
 "cells": [
  {
   "cell_type": "code",
   "execution_count": 5,
   "metadata": {},
   "outputs": [
    {
     "name": "stdout",
     "output_type": "stream",
     "text": [
      "\n",
      "\n",
      "\u001b[1m> Entering new AgentExecutor chain...\u001b[0m\n",
      "\u001b[32;1m\u001b[1;3mI need to gather more information about the XZ backdoor, specifically its implications and how it operates. The DuckDuckGo results provide several snippets that mention the backdoor's functionality and its impact on the XZ utility. \n",
      "\n",
      "Action: DuckDuckGo Results JSON  \n",
      "Action Input: \"XZ backdoor details\"  \u001b[0m\n",
      "Observation: \u001b[33;1m\u001b[1;3m[snippet: The XZ Backdoor: Everything You Need to Know Details are starting to emerge about a stunning supply chain attack that sent the open source software community reeling. Illustration: da-kuk/Getty Images, title: The XZ Backdoor: Everything You Need to Know - WIRED, link: https://www.wired.com/story/xz-backdoor-everything-you-need-to-know/], [snippet: Now that the XZ backdoor has control over sshd, attackers can possess the encryption key used to make the SSH connections hide their malicious code in the SSH login certificate and use it as an entry point to execute various malicious actions on the compromised device - such as stealing files or installing malware (e.g., ransomware, keyloggers), title: The XZ Backdoor explained - Cybernews, link: https://cybernews.com/editorial/xz-linux-backdoor-explained/], [snippet: CVE-2024-3094 is a vulnerability discovered in the open-source library XZ Utils that stems from malicious code that was pushed into the library by one of its maintainers.. It was originally reported as an SSH authentication bypass backdoor, but further analysis indicates that the backdoor actually enables remote code execution (RCE).. The threat actor started contributing to the XZ project ..., title: XZ Utils Backdoor — Everything You Need to Know, and What ... - Akamai, link: https://www.akamai.com/blog/security-research/critical-linux-backdoor-xz-utils-discovered-what-to-know], [snippet: The XZ backdoor is one of many publicly documented supply chain attacks—but it stands out for its complexity, both from a technical and human perspective, with the attacker having spent years preparing for the attack. ... Security researchers will continue to investigate this threat for some time to come and will likely uncover more details ..., title: The XZ Utils backdoor (CVE-2024-3094): Everything you need to ... - Datadog, link: https://securitylabs.datadoghq.com/articles/xz-backdoor-cve-2024-3094/]\u001b[0m\n",
      "Thought:\u001b[32;1m\u001b[1;3mI have gathered sufficient information about the XZ backdoor, including its functionality, implications, and the nature of the attack. The snippets indicate that the backdoor was introduced into the XZ Utils library by a malicious actor and allows for remote code execution, posing significant security risks.\n",
      "\n",
      "Final Answer: The XZ backdoor was introduced into the XZ Utils library versions 5.6.0 and 5.6.1 through malicious code added by a maintainer. It manipulates the sshd process, enabling attackers to control SSH connections, potentially allowing them to steal files or install malware. This incident is part of a broader trend of supply chain attacks and has raised significant concerns within the open-source software community.\u001b[0m\n",
      "\n",
      "\u001b[1m> Finished chain.\u001b[0m\n"
     ]
    },
    {
     "data": {
      "text/plain": [
       "{'input': \"The DuckDuckGo results are: [snippet: Recently, a backdoor was discovered in XZ, a popular library for lossless data compression. Initial research efforts were predominantly concentrated on unpacking the well-disguised attack vector, while the social aspects of the attack received only murmurings. To investigate this attack, I never read a line of code., title: Everything I Know About the XZ Backdoor - Boehs, link: https://boehs.org/node/everything-i-know-about-the-xz-backdoor], [snippet: What does the backdoor do? Malicious code added to xz Utils versions 5.6.0 and 5.6.1 modified the way the software functions. The backdoor manipulated sshd, the executable file used to make remote ..., title: What we know about the xz Utils backdoor that almost infected the world, link: https://arstechnica.com/security/2024/04/what-we-know-about-the-xz-utils-backdoor-that-almost-infected-the-world/], [snippet: 2024-02-24: Jia Tan tags and builds v5.6.0 and publishes an xz-5.6..tar.gz distribution with an extra, malicious build-to-host.m4 that adds the backdoor when building a deb/rpm package. This m4 file is not present in the source repository, but many other legitimate ones are added during package as well, so it's not suspicious by itself., title: research!rsc: Timeline of the xz open source attack - swtch, link: https://research.swtch.com/xz-timeline], [snippet: Threat actors added malicious code (or a backdoor) to the XZ utility versions 5.6.0 and 5.6.1. The installed backdoor works by manipulating the sshd, a server process that facilitates secure internet connections using the SSH protocol. The sshd is responsible for user authentication, encryption, terminal connections, file transfers, and tunneling., title: The XZ Backdoor explained - Cybernews, link: https://cybernews.com/editorial/xz-linux-backdoor-explained/].\",\n",
       " 'output': 'The XZ backdoor was introduced into the XZ Utils library versions 5.6.0 and 5.6.1 through malicious code added by a maintainer. It manipulates the sshd process, enabling attackers to control SSH connections, potentially allowing them to steal files or install malware. This incident is part of a broader trend of supply chain attacks and has raised significant concerns within the open-source software community.'}"
      ]
     },
     "execution_count": 5,
     "metadata": {},
     "output_type": "execute_result"
    }
   ],
   "source": [
    "import re\n",
    "from langchain.agents import initialize_agent, AgentType\n",
    "from langchain.chat_models import ChatOpenAI\n",
    "from langchain.tools import (\n",
    "    WikipediaQueryRun,\n",
    "    DuckDuckGoSearchRun,\n",
    "    DuckDuckGoSearchResults,\n",
    ")\n",
    "from langchain.utilities import WikipediaAPIWrapper\n",
    "from langchain.document_loaders import WebBaseLoader\n",
    "\n",
    "llm = ChatOpenAI(\n",
    "    temperature=0.1,\n",
    "    model_name=\"gpt-4o-mini\",\n",
    ")\n",
    "\n",
    "wikipedia = WikipediaQueryRun(api_wrapper=WikipediaAPIWrapper())\n",
    "ddg = DuckDuckGoSearchResults(\n",
    "    backend=\"auto\",\n",
    "    description=\"A wrapper around Duck Duck Go Search. Useful for when you need to answer questions about current events. Input should be a search query. Output is a JSON string array of the query results\",\n",
    ")\n",
    "\n",
    "query = \"Research about the XZ backdoor\"\n",
    "wikipedia_results = wikipedia.run(query)\n",
    "ddg_results = ddg.run(query)\n",
    "\n",
    "\n",
    "# 정규 표현식으로 'link' 찾기\n",
    "links = re.findall(r\"link:\\s*(https?://[^\\]]+)\", ddg_results)\n",
    "\n",
    "# print(\"wikipedia_results\", wikipedia_results)\n",
    "\n",
    "loader = WebBaseLoader(links)\n",
    "docs = loader.load()\n",
    "\n",
    "with open(\"./research_results.txt\", \"w\") as f:\n",
    "    for doc in docs:\n",
    "        final_doc = doc.page_content.replace(\"\\n\", \" \").replace(\"\\xa0\", \" \")\n",
    "        f.write(final_doc)\n",
    "\n",
    "\n",
    "agent = initialize_agent(\n",
    "    llm=llm,\n",
    "    agent_type=AgentType.OPENAI_FUNCTIONS,\n",
    "    verbose=True,\n",
    "    tools=[\n",
    "        wikipedia,\n",
    "        ddg,\n",
    "    ],\n",
    ")\n",
    "\n",
    "# The Wikipedia results are: {wikipedia_results}.\n",
    "agent.invoke(f\"The DuckDuckGo results are: {ddg_results}.\")"
   ]
  }
 ],
 "metadata": {
  "kernelspec": {
   "display_name": "env",
   "language": "python",
   "name": "python3"
  },
  "language_info": {
   "codemirror_mode": {
    "name": "ipython",
    "version": 3
   },
   "file_extension": ".py",
   "mimetype": "text/x-python",
   "name": "python",
   "nbconvert_exporter": "python",
   "pygments_lexer": "ipython3",
   "version": "3.11.7"
  }
 },
 "nbformat": 4,
 "nbformat_minor": 2
}
