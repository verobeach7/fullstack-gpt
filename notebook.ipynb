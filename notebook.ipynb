{
 "cells": [
  {
   "cell_type": "code",
   "execution_count": 1,
   "metadata": {},
   "outputs": [],
   "source": [
    "import subprocess\n",
    "import math\n",
    "import os\n",
    "from pydub import AudioSegment\n",
    "\n",
    "\n",
    "# video_path: 동영상의 경로\n",
    "# audio_path: 추출한 audio가 저장될 경로\n",
    "def extract_audio_from_video(video_path, audio_path):\n",
    "    command = [\n",
    "        \"ffmpeg\",\n",
    "        \"-i\",  # input\n",
    "        video_path,\n",
    "        \"-vn\",  # video nope: ignore the video\n",
    "        audio_path,\n",
    "        \"-y\",  # 이미 파일이 존재하는 경우 덮어쓰기를 함\n",
    "    ]\n",
    "    # subprocess는 python code에서 command line 명령을 사용할 수 있게 해줌\n",
    "    subprocess.run(command)\n",
    "\n",
    "\n",
    "# 확장 가능한 함수로 작성\n",
    "# audio_path: 오디오트랙 파일이 있는 곳, chunk_size: 몇 분 단위로 쪼갤지, chunks_folder: 쪼갠 오디오트랙을 저장할 폴더\n",
    "def cut_audio_in_chunks(audio_path, chunk_size, chunks_folder):\n",
    "    track = AudioSegment.from_mp3(audio_path)\n",
    "    chunk_len = chunk_size * 60 * 1000\n",
    "    chunks = math.ceil(len(track) / chunk_len)\n",
    "    for i in range(chunks):\n",
    "        start_time = i * chunk_len\n",
    "        end_time = (i + 1) * chunk_len\n",
    "\n",
    "        chunk = track[start_time:end_time]\n",
    "        chunk_path = f\"{chunks_folder}/chunk_{i:03d}.mp3\"\n",
    "        directory = os.path.dirname(chunk_path)\n",
    "\n",
    "        if not os.path.exists(directory):\n",
    "            os.makedirs(directory, exist_ok=True)\n",
    "\n",
    "        chunk.export(chunk_path, format=\"mp3\")"
   ]
  },
  {
   "cell_type": "code",
   "execution_count": 12,
   "metadata": {},
   "outputs": [],
   "source": [
    "cut_audio_in_chunks(\"./files/podcast.mp3\", 10, \"./files/chunks\")"
   ]
  },
  {
   "cell_type": "code",
   "execution_count": null,
   "metadata": {},
   "outputs": [],
   "source": [
    "import openai\n",
    "\n",
    "# glob는 패턴을 사용하여 디렉토리 내부의 파일을 검색할 수 있도록 해줌\n",
    "import glob\n",
    "\n",
    "\n",
    "def transcribe_chunks(chunk_folder, destination):\n",
    "    # whisper-1 기본 사용법\n",
    "    # transcript = openai.Audio.transcribe(\n",
    "    #     \"whisper-1\",\n",
    "    #     open(f\"./files/chunks/chunk_000.mp3\", \"rb\")\n",
    "    # )\n",
    "    # # transcript는 json을 반환함. 내부의 text가 필요.\n",
    "    # transcript[\"text\"]\n",
    "\n",
    "    # files = glob.glob(f\"{chunk_folder}/*.mp3\")\n",
    "    files = sorted(glob.glob(f\"{chunk_folder}/*.mp3\"))\n",
    "    # print(files) # 해당하는 모든 파일이 리스트에 담겨 반환됨\n",
    "\n",
    "    final_transcript = \"\"\n",
    "\n",
    "    # for file in files:\n",
    "    #     transcript = openai.Audio.transcribe(\n",
    "    #         \"whisper-1\",\n",
    "    #         open(file, \"rb\")\n",
    "    #     )\n",
    "    #     final_transcript += transcript[\"text\"]\n",
    "\n",
    "    # return final_transcript\n",
    "\n",
    "    # file을 열어놓고 직접 작성하는 방식으로 코딩\n",
    "    # 위 방식이 아닌 아래 방식으로 코딩해야 파일을 사용한 후에 파일을 닫아줄 수 있음\n",
    "    for file in files:\n",
    "        with open(file, \"rb\") as audio_file:\n",
    "            transcript = openai.Audio.transcribe(\n",
    "                # 녹취에 whisper-1 모델 사용\n",
    "                \"whisper-1\",\n",
    "                audio_file,\n",
    "            )\n",
    "            final_transcript += transcript[\"text\"]\n",
    "    with open(destination, \"w\") as file:\n",
    "        file.write(final_transcript)"
   ]
  },
  {
   "cell_type": "code",
   "execution_count": 3,
   "metadata": {},
   "outputs": [
    {
     "ename": "TypeError",
     "evalue": "'module' object is not callable",
     "output_type": "error",
     "traceback": [
      "\u001b[0;31m---------------------------------------------------------------------------\u001b[0m",
      "\u001b[0;31mTypeError\u001b[0m                                 Traceback (most recent call last)",
      "Cell \u001b[0;32mIn[3], line 1\u001b[0m\n\u001b[0;32m----> 1\u001b[0m \u001b[43mtranscribe_chunks\u001b[49m\u001b[43m(\u001b[49m\u001b[38;5;124;43m\"\u001b[39;49m\u001b[38;5;124;43m./files/chunks/\u001b[39;49m\u001b[38;5;124;43m\"\u001b[39;49m\u001b[43m,\u001b[49m\u001b[43m \u001b[49m\u001b[38;5;124;43m\"\u001b[39;49m\u001b[38;5;124;43m./files/transcript.txt\u001b[39;49m\u001b[38;5;124;43m\"\u001b[39;49m\u001b[43m)\u001b[49m\n",
      "Cell \u001b[0;32mIn[2], line 18\u001b[0m, in \u001b[0;36mtranscribe_chunks\u001b[0;34m(chunk_folder, destination)\u001b[0m\n\u001b[1;32m      8\u001b[0m \u001b[38;5;28;01mdef\u001b[39;00m \u001b[38;5;21mtranscribe_chunks\u001b[39m(chunk_folder, destination):\n\u001b[1;32m      9\u001b[0m     \u001b[38;5;66;03m# whisper-1 기본 사용법\u001b[39;00m\n\u001b[1;32m     10\u001b[0m     \u001b[38;5;66;03m# transcript = openai.Audio.transcribe(\u001b[39;00m\n\u001b[0;32m   (...)\u001b[0m\n\u001b[1;32m     16\u001b[0m \n\u001b[1;32m     17\u001b[0m     \u001b[38;5;66;03m# files = glob.glob(f\"{chunk_folder}/*.mp3\")\u001b[39;00m\n\u001b[0;32m---> 18\u001b[0m     files \u001b[38;5;241m=\u001b[39m \u001b[38;5;28msorted\u001b[39m(\u001b[43mglob\u001b[49m\u001b[43m(\u001b[49m\u001b[38;5;124;43mf\u001b[39;49m\u001b[38;5;124;43m\"\u001b[39;49m\u001b[38;5;132;43;01m{\u001b[39;49;00m\u001b[43mchunk_folder\u001b[49m\u001b[38;5;132;43;01m}\u001b[39;49;00m\u001b[38;5;124;43m/*.mp3\u001b[39;49m\u001b[38;5;124;43m\"\u001b[39;49m\u001b[43m)\u001b[49m)\n\u001b[1;32m     19\u001b[0m     \u001b[38;5;66;03m# print(files) # 해당하는 모든 파일이 리스트에 담겨 반환됨\u001b[39;00m\n\u001b[1;32m     21\u001b[0m     final_transcript \u001b[38;5;241m=\u001b[39m \u001b[38;5;124m\"\u001b[39m\u001b[38;5;124m\"\u001b[39m\n",
      "\u001b[0;31mTypeError\u001b[0m: 'module' object is not callable"
     ]
    }
   ],
   "source": [
    "transcribe_chunks(\"./files/chunks/\", \"./files/transcript.txt\")"
   ]
  }
 ],
 "metadata": {
  "kernelspec": {
   "display_name": "env",
   "language": "python",
   "name": "python3"
  },
  "language_info": {
   "codemirror_mode": {
    "name": "ipython",
    "version": 3
   },
   "file_extension": ".py",
   "mimetype": "text/x-python",
   "name": "python",
   "nbconvert_exporter": "python",
   "pygments_lexer": "ipython3",
   "version": "3.11.7"
  }
 },
 "nbformat": 4,
 "nbformat_minor": 2
}
