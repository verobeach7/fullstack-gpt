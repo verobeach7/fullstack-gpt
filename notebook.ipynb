{
 "cells": [
  {
   "cell_type": "code",
   "execution_count": null,
   "metadata": {},
   "outputs": [
    {
     "data": {
      "text/plain": [
       "{'history': [HumanMessage(content='2'),\n",
       "  AIMessage(content='2'),\n",
       "  HumanMessage(content='3'),\n",
       "  AIMessage(content='3'),\n",
       "  HumanMessage(content='4'),\n",
       "  AIMessage(content='4'),\n",
       "  HumanMessage(content='5'),\n",
       "  AIMessage(content='5'),\n",
       "  HumanMessage(content='6'),\n",
       "  AIMessage(content='6')]}"
      ]
     },
     "execution_count": 3,
     "metadata": {},
     "output_type": "execute_result"
    }
   ],
   "source": [
    "from langchain.memory import ConversationBufferWindowMemory  \n",
    "  \n",
    "memory = ConversationBufferWindowMemory(  \n",
    "\treturn_messages=True,  \n",
    "\tk=5, # 대화 버퍼 윈도우의 크기. 즉 몇 개의 메세지를 저장할지.  \n",
    ")  \n",
    "  \n",
    "def add_message(input, output):  \n",
    "\tmemory.save_context({'input': input}, {'output': output})  \n",
    "  \n",
    "# 대화 6개 저장하기 ( 숫자 자료형 형태는 안됨 )\n",
    "# add_message 메서드에는 문자열만 가능함 \n",
    "for i in range(1, 7):  \n",
    "\tadd_message(str(i), str(i))  \n",
    "  \n",
    "# 메모리를 봤을 때, 제일 처음 저장한 1은 사라져 있음.  \n",
    "memory.load_memory_variables({})  \n"
   ]
  }
 ],
 "metadata": {
  "kernelspec": {
   "display_name": "env",
   "language": "python",
   "name": "python3"
  },
  "language_info": {
   "codemirror_mode": {
    "name": "ipython",
    "version": 3
   },
   "file_extension": ".py",
   "mimetype": "text/x-python",
   "name": "python",
   "nbconvert_exporter": "python",
   "pygments_lexer": "ipython3",
   "version": "3.11.7"
  }
 },
 "nbformat": 4,
 "nbformat_minor": 2
}
