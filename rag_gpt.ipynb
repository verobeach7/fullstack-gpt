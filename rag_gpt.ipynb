{
 "cells": [
  {
   "cell_type": "code",
   "execution_count": 9,
   "metadata": {},
   "outputs": [],
   "source": [
    "from openai import OpenAI\n",
    "\n",
    "client = OpenAI()\n",
    "\n",
    "# assistant = client.beta.assistants.create(\n",
    "#     name=\"Book Assistant\",\n",
    "#     instructions=\"You help users with their question on the files they upload.\",\n",
    "#     model=\"gpt-4o-mini\",\n",
    "#     tools=[{\"type\": \"file_search\"}],\n",
    "# )\n",
    "assistant_id = \"asst_CfJuj6Ak8d4gAk1ZUtd9toWV\""
   ]
  },
  {
   "cell_type": "code",
   "execution_count": 13,
   "metadata": {},
   "outputs": [
    {
     "name": "stdout",
     "output_type": "stream",
     "text": [
      "completed\n"
     ]
    }
   ],
   "source": [
    "vector_store = client.beta.vector_stores.create(name=\"Book Assistant\")\n",
    "\n",
    "file_paths = [\"./files/chapter_one.txt\"]\n",
    "file_streams = [open(path, \"rb\") for path in file_paths]\n",
    "\n",
    "file_batch = client.beta.vector_stores.file_batches.upload_and_poll(\n",
    "    vector_store_id=vector_store.id, files=file_streams\n",
    ")\n",
    "\n",
    "print(file_batch.status)"
   ]
  },
  {
   "cell_type": "code",
   "execution_count": 14,
   "metadata": {},
   "outputs": [],
   "source": [
    "assistant = client.beta.assistants.update(\n",
    "    assistant_id=assistant_id,\n",
    "    tool_resources={\n",
    "        \"file_search\": {\n",
    "            \"vector_store_ids\": [vector_store.id],\n",
    "        }\n",
    "    },\n",
    ")"
   ]
  },
  {
   "cell_type": "code",
   "execution_count": 5,
   "metadata": {},
   "outputs": [
    {
     "data": {
      "text/plain": [
       "Thread(id='thread_HnAHUiYew3H81rczpDTKKp4H', created_at=1737799421, metadata={}, object='thread', tool_resources=ToolResources(code_interpreter=None, file_search=None))"
      ]
     },
     "execution_count": 5,
     "metadata": {},
     "output_type": "execute_result"
    }
   ],
   "source": [
    "message_file = client.files.create(\n",
    "    file=open(\"./files/chapter_one.txt\", \"rb\"), purpose=\"assistants\"\n",
    ")\n",
    "\n",
    "thread = client.beta.threads.create(\n",
    "    messages=[\n",
    "        {\n",
    "            \"role\": \"user\",\n",
    "            \"content\": \"I want you to help me with this file\",\n",
    "            \"attachments\": [\n",
    "                {\n",
    "                    \"file_id\": message_file.id,\n",
    "                    \"tools\": [\n",
    "                        {\n",
    "                            \"type\": \"file_search\",\n",
    "                        }\n",
    "                    ],\n",
    "                }\n",
    "            ],\n",
    "        }\n",
    "    ]\n",
    ")\n",
    "print(thread)"
   ]
  },
  {
   "cell_type": "code",
   "execution_count": null,
   "metadata": {},
   "outputs": [],
   "source": [
    "# client.beta.threads.messages.create(\n",
    "#     # message 내용 없이 파일만 전달\n",
    "#     thread_id=thread.id,\n",
    "#     role=\"user\",\n",
    "#     content=\"\",\n",
    "#     file_ids=[message_file.id],\n",
    "# )"
   ]
  },
  {
   "cell_type": "code",
   "execution_count": 28,
   "metadata": {},
   "outputs": [
    {
     "data": {
      "text/plain": [
       "Run(id='run_xZ8j0fDh5lWWhZytyH6PUkVq', assistant_id='asst_CfJuj6Ak8d4gAk1ZUtd9toWV', cancelled_at=None, completed_at=None, created_at=1737801458, expires_at=1737802058, failed_at=None, incomplete_details=None, instructions='You help users with their question on the files they upload.', last_error=None, max_completion_tokens=None, max_prompt_tokens=None, metadata={}, model='gpt-4o-mini', object='thread.run', parallel_tool_calls=True, required_action=None, response_format='auto', started_at=None, status='queued', thread_id='thread_HnAHUiYew3H81rczpDTKKp4H', tool_choice='auto', tools=[FileSearchTool(type='file_search', file_search=FileSearch(max_num_results=None, ranking_options=FileSearchRankingOptions(score_threshold=0.0, ranker='default_2024_08_21')))], truncation_strategy=TruncationStrategy(type='auto', last_messages=None), usage=None, temperature=1.0, top_p=1.0, tool_resources={})"
      ]
     },
     "execution_count": 28,
     "metadata": {},
     "output_type": "execute_result"
    }
   ],
   "source": [
    "# 메시지를 주고 나면 항상 run을 해줘야 ai가 다음 작업을 수행함\n",
    "run = client.beta.threads.runs.create(\n",
    "    thread_id=thread.id,\n",
    "    assistant_id=assistant_id,\n",
    ")\n",
    "run"
   ]
  },
  {
   "cell_type": "code",
   "execution_count": 3,
   "metadata": {},
   "outputs": [],
   "source": [
    "def get_run(run_id, thread_id):\n",
    "    return client.beta.threads.runs.retrieve(\n",
    "        run_id=run_id,\n",
    "        thread_id=thread_id,\n",
    "    )\n",
    "\n",
    "\n",
    "def send_message(thread_id, content):\n",
    "    return client.beta.threads.messages.create(\n",
    "        thread_id=thread_id, role=\"user\", content=content\n",
    "    )\n",
    "\n",
    "\n",
    "def get_messages(thread_id):\n",
    "    messages = client.beta.threads.messages.list(thread_id=thread_id)\n",
    "    messages = list(messages)\n",
    "    messages.reverse()\n",
    "    for message in messages:\n",
    "        print(f\"{message.role}: {message.content[0].text.value}\")\n",
    "        for annotation in message.content[0].text.annotations:\n",
    "            print(f\"Source: {annotation.file_citation}\")\n",
    "\n",
    "\n",
    "# def get_tool_outputs(run_id, thread_id):\n",
    "#     run = get_run(run_id, thread_id)\n",
    "#     outputs = []\n",
    "#     for action in run.required_action.submit_tool_outputs.tool_calls:\n",
    "#         action_id = action.id\n",
    "#         function = action.function\n",
    "#         print(f\"Calling function: {function.name} with arg {function.arguments}\")\n",
    "#         outputs.append(\n",
    "#             {\n",
    "#                 \"output\": functions_map[function.name](json.loads(function.arguments)),\n",
    "#                 \"tool_call_id\": action_id,\n",
    "#             }\n",
    "#         )\n",
    "#     return outputs\n",
    "\n",
    "\n",
    "# def submit_tool_outputs(run_id, thread_id):\n",
    "#     outpus = get_tool_outputs(run_id, thread_id)\n",
    "#     return client.beta.threads.runs.submit_tool_outputs(\n",
    "#         run_id=run_id,\n",
    "#         thread_id=thread_id,\n",
    "#         tool_outputs=outpus,\n",
    "#     )"
   ]
  },
  {
   "cell_type": "code",
   "execution_count": 29,
   "metadata": {},
   "outputs": [
    {
     "data": {
      "text/plain": [
       "'in_progress'"
      ]
     },
     "execution_count": 29,
     "metadata": {},
     "output_type": "execute_result"
    }
   ],
   "source": [
    "get_run(run.id, thread.id).status"
   ]
  },
  {
   "cell_type": "code",
   "execution_count": 19,
   "metadata": {},
   "outputs": [
    {
     "name": "stdout",
     "output_type": "stream",
     "text": [
      "user: I want you to help me with this file\n",
      "assistant: Sure! Please let me know what specific information or assistance you need with the file.\n"
     ]
    }
   ],
   "source": [
    "get_messages(thread.id)"
   ]
  },
  {
   "cell_type": "code",
   "execution_count": 20,
   "metadata": {},
   "outputs": [
    {
     "data": {
      "text/plain": [
       "Message(id='msg_ZFlWSnsnHprru3CPNXI59UZ6', assistant_id=None, attachments=[], completed_at=None, content=[TextContentBlock(text=Text(annotations=[], value='I want to know where does Winston live and how his apartment looks like.'), type='text')], created_at=1737801194, incomplete_at=None, incomplete_details=None, metadata={}, object='thread.message', role='user', run_id=None, status=None, thread_id='thread_HnAHUiYew3H81rczpDTKKp4H')"
      ]
     },
     "execution_count": 20,
     "metadata": {},
     "output_type": "execute_result"
    }
   ],
   "source": [
    "send_message(\n",
    "    thread.id,\n",
    "    \"I want to know where does Winston live and how his apartment looks like.\",\n",
    ")"
   ]
  },
  {
   "cell_type": "code",
   "execution_count": 25,
   "metadata": {},
   "outputs": [
    {
     "name": "stdout",
     "output_type": "stream",
     "text": [
      "user: I want you to help me with this file\n",
      "assistant: Sure! Please let me know what specific information or assistance you need with the file.\n",
      "user: I want to know where does Winston live and how his apartment looks like.\n",
      "assistant: Winston Smith lives in an apartment located in a building called Victory Mansions. His living environment is quite bleak and reflects the dismal state of society in the story. Here are some key points about his living situation and apartment:\n",
      "\n",
      "1. **Location and Condition**: \n",
      "   - Winston's apartment is described as part of Victory Mansions, and the building appears to be in a poor state, as it is associated with the oppressive regime of the Party. The hallway smells of boiled cabbage and old rag mats, contributing to the grim atmosphere【6:0†source】.\n",
      "\n",
      "2. **Climbing Stairs**: \n",
      "   - His flat is located seven flights up, indicating a significant amount of stairs to climb, especially since the lift is often out of order or not functioning【6:0†source】. This detail also emphasizes the physical toll of living in such a decrepit building.\n",
      "\n",
      "3. **Interior Description**:\n",
      "   - Inside the flat, there is a telescreen that emits constant propaganda, making privacy virtually impossible. The telescreen is an integral part of Party surveillance, and Winston can control its volume, but not turn it off【6:3†source】.\n",
      "   - The flat itself appears small and cramped, with limited furnishings. Winston often finds himself sitting at a small table with a few essential items, such as a diary and a pen【6:4†source】. It is sparsely decorated, reflecting the utilitarian nature of life under the Party's control.\n",
      "\n",
      "4. **Overall Atmosphere**: \n",
      "   - The overall feeling is one of coldness and oppression, with constant reminders of the Party's surveillance through the telescreen and propaganda posters featuring Big Brother【6:0†source】【6:3†source】. \n",
      "\n",
      "This setting plays a crucial role in shaping Winston's thoughts, feelings, and actions throughout the story, illustrating the oppressive nature of his world.\n",
      "Source: FileCitation(file_id='file-GjyTzEawybeEj4yVS65em3')\n",
      "Source: FileCitation(file_id='file-GjyTzEawybeEj4yVS65em3')\n",
      "Source: FileCitation(file_id='file-GjyTzEawybeEj4yVS65em3')\n",
      "Source: FileCitation(file_id='file-GjyTzEawybeEj4yVS65em3')\n",
      "Source: FileCitation(file_id='file-GjyTzEawybeEj4yVS65em3')\n",
      "Source: FileCitation(file_id='file-GjyTzEawybeEj4yVS65em3')\n"
     ]
    }
   ],
   "source": [
    "get_messages(thread.id)"
   ]
  },
  {
   "cell_type": "code",
   "execution_count": 26,
   "metadata": {},
   "outputs": [
    {
     "data": {
      "text/plain": [
       "Message(id='msg_3s9Ceu44A2cwCZuyig0GR51f', assistant_id=None, attachments=[], completed_at=None, content=[TextContentBlock(text=Text(annotations=[], value='Where does he wokr?'), type='text')], created_at=1737801432, incomplete_at=None, incomplete_details=None, metadata={}, object='thread.message', role='user', run_id=None, status=None, thread_id='thread_HnAHUiYew3H81rczpDTKKp4H')"
      ]
     },
     "execution_count": 26,
     "metadata": {},
     "output_type": "execute_result"
    }
   ],
   "source": [
    "send_message(\n",
    "    thread.id,\n",
    "    \"Where does he wokr?\",\n",
    ")"
   ]
  },
  {
   "cell_type": "code",
   "execution_count": 30,
   "metadata": {},
   "outputs": [
    {
     "data": {
      "text/plain": [
       "'completed'"
      ]
     },
     "execution_count": 30,
     "metadata": {},
     "output_type": "execute_result"
    }
   ],
   "source": [
    "get_run(run.id, thread.id).status"
   ]
  },
  {
   "cell_type": "code",
   "execution_count": 31,
   "metadata": {},
   "outputs": [
    {
     "name": "stdout",
     "output_type": "stream",
     "text": [
      "user: I want you to help me with this file\n",
      "assistant: Sure! Please let me know what specific information or assistance you need with the file.\n",
      "user: I want to know where does Winston live and how his apartment looks like.\n",
      "assistant: Winston Smith lives in an apartment located in a building called Victory Mansions. His living environment is quite bleak and reflects the dismal state of society in the story. Here are some key points about his living situation and apartment:\n",
      "\n",
      "1. **Location and Condition**: \n",
      "   - Winston's apartment is described as part of Victory Mansions, and the building appears to be in a poor state, as it is associated with the oppressive regime of the Party. The hallway smells of boiled cabbage and old rag mats, contributing to the grim atmosphere【6:0†source】.\n",
      "\n",
      "2. **Climbing Stairs**: \n",
      "   - His flat is located seven flights up, indicating a significant amount of stairs to climb, especially since the lift is often out of order or not functioning【6:0†source】. This detail also emphasizes the physical toll of living in such a decrepit building.\n",
      "\n",
      "3. **Interior Description**:\n",
      "   - Inside the flat, there is a telescreen that emits constant propaganda, making privacy virtually impossible. The telescreen is an integral part of Party surveillance, and Winston can control its volume, but not turn it off【6:3†source】.\n",
      "   - The flat itself appears small and cramped, with limited furnishings. Winston often finds himself sitting at a small table with a few essential items, such as a diary and a pen【6:4†source】. It is sparsely decorated, reflecting the utilitarian nature of life under the Party's control.\n",
      "\n",
      "4. **Overall Atmosphere**: \n",
      "   - The overall feeling is one of coldness and oppression, with constant reminders of the Party's surveillance through the telescreen and propaganda posters featuring Big Brother【6:0†source】【6:3†source】. \n",
      "\n",
      "This setting plays a crucial role in shaping Winston's thoughts, feelings, and actions throughout the story, illustrating the oppressive nature of his world.\n",
      "Source: FileCitation(file_id='file-GjyTzEawybeEj4yVS65em3')\n",
      "Source: FileCitation(file_id='file-GjyTzEawybeEj4yVS65em3')\n",
      "Source: FileCitation(file_id='file-GjyTzEawybeEj4yVS65em3')\n",
      "Source: FileCitation(file_id='file-GjyTzEawybeEj4yVS65em3')\n",
      "Source: FileCitation(file_id='file-GjyTzEawybeEj4yVS65em3')\n",
      "Source: FileCitation(file_id='file-GjyTzEawybeEj4yVS65em3')\n",
      "user: Where does he wokr?\n",
      "assistant: Winston works at the Ministry of Truth, which in Newspeak is called \"Minitrue.\" The Ministry of Truth is responsible for news, entertainment, education, and the fine arts【10:0†source】. \n",
      "\n",
      "### Description of His Work Environment:\n",
      "\n",
      "1. **Location**: The Ministry of Truth is depicted as an enormous pyramidal structure of white concrete, standing out starkly against the dilapidated surroundings of London【10:1†source】.\n",
      "\n",
      "2. **Details of His Job**: Winston is employed in the Records Department of the Ministry, where he engages in altering and rewriting historical records to fit the Party's ever-changing narrative. This work involves editing old news articles and other documents to ensure they align with the Party's current propaganda【10:2†source】. \n",
      "\n",
      "3. **Work Culture**: The atmosphere in the Ministry, like the rest of society, is suffused with the pervasive surveillance and control of the Party. The workers are subjected to the constant presence of telescreens that monitor their actions and even their voices, making true privacy impossible【10:0†source】【10:4†source】. \n",
      "\n",
      "This oppressive work environment significantly impacts Winston's thoughts and actions throughout the narrative, reflecting the themes of control and manipulation inherent in the society he inhabits.\n",
      "Source: FileCitation(file_id='file-GjyTzEawybeEj4yVS65em3')\n",
      "Source: FileCitation(file_id='file-GjyTzEawybeEj4yVS65em3')\n",
      "Source: FileCitation(file_id='file-GjyTzEawybeEj4yVS65em3')\n",
      "Source: FileCitation(file_id='file-GjyTzEawybeEj4yVS65em3')\n",
      "Source: FileCitation(file_id='file-GjyTzEawybeEj4yVS65em3')\n"
     ]
    }
   ],
   "source": [
    "get_messages(thread.id)"
   ]
  }
 ],
 "metadata": {
  "kernelspec": {
   "display_name": "env",
   "language": "python",
   "name": "python3"
  },
  "language_info": {
   "codemirror_mode": {
    "name": "ipython",
    "version": 3
   },
   "file_extension": ".py",
   "mimetype": "text/x-python",
   "name": "python",
   "nbconvert_exporter": "python",
   "pygments_lexer": "ipython3",
   "version": "3.11.7"
  }
 },
 "nbformat": 4,
 "nbformat_minor": 2
}
